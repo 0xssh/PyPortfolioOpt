{
 "cells": [
  {
   "cell_type": "markdown",
   "metadata": {},
   "source": [
    "# Advanced MVO - custom objectives\n",
    "\n",
    "PyPortfolioOpt has implemented some of the most common objective functions (e.g `min_volatility`, `max_sharpe`, `max_quadratic_utility`, `efficient_risk`, `efficient_return`). However, sometimes yoy may have an idea for a different objective function.\n",
    "\n",
    "In this cookbook recipe, we cover:\n",
    "\n",
    "- Mininimising transaction costs\n",
    "- Custom convex objectives\n",
    "- Custom nonconvex objectives\n",
    "\n",
    "## Acquiring data\n",
    "\n",
    "As discussed in the previous notebook, assets are an exogenous input (i.e you must come up with a list of tickers). We will use `yfinance` to download data for thesee tickers"
   ]
  },
  {
   "cell_type": "code",
   "execution_count": 1,
   "metadata": {},
   "outputs": [],
   "source": [
    "import yfinance as yf\n",
    "import pandas as pd\n",
    "import numpy as np\n",
    "import matplotlib.pyplot as plt"
   ]
  },
  {
   "cell_type": "code",
   "execution_count": 2,
   "metadata": {},
   "outputs": [],
   "source": [
    "tickers = [\"BLK\", \"BAC\", \"AAPL\", \"TM\", \"WMT\",\n",
    "           \"JD\", \"INTU\", \"MA\", \"UL\", \"CVS\",\n",
    "           \"DIS\", \"AMD\", \"NVDA\", \"PBI\", \"TGT\"]"
   ]
  },
  {
   "cell_type": "code",
   "execution_count": 3,
   "metadata": {},
   "outputs": [
    {
     "name": "stdout",
     "output_type": "stream",
     "text": [
      "[*********************100%***********************]  15 of 15 completed\n"
     ]
    }
   ],
   "source": [
    "ohlc = yf.download(tickers, period=\"max\")"
   ]
  },
  {
   "cell_type": "code",
   "execution_count": 4,
   "metadata": {},
   "outputs": [
    {
     "data": {
      "text/html": [
       "<div>\n",
       "<style scoped>\n",
       "    .dataframe tbody tr th:only-of-type {\n",
       "        vertical-align: middle;\n",
       "    }\n",
       "\n",
       "    .dataframe tbody tr th {\n",
       "        vertical-align: top;\n",
       "    }\n",
       "\n",
       "    .dataframe thead th {\n",
       "        text-align: right;\n",
       "    }\n",
       "</style>\n",
       "<table border=\"1\" class=\"dataframe\">\n",
       "  <thead>\n",
       "    <tr style=\"text-align: right;\">\n",
       "      <th></th>\n",
       "      <th>AAPL</th>\n",
       "      <th>AMD</th>\n",
       "      <th>BAC</th>\n",
       "      <th>BLK</th>\n",
       "      <th>CVS</th>\n",
       "      <th>DIS</th>\n",
       "      <th>INTU</th>\n",
       "      <th>JD</th>\n",
       "      <th>MA</th>\n",
       "      <th>NVDA</th>\n",
       "      <th>PBI</th>\n",
       "      <th>TGT</th>\n",
       "      <th>TM</th>\n",
       "      <th>UL</th>\n",
       "      <th>WMT</th>\n",
       "    </tr>\n",
       "    <tr>\n",
       "      <th>Date</th>\n",
       "      <th></th>\n",
       "      <th></th>\n",
       "      <th></th>\n",
       "      <th></th>\n",
       "      <th></th>\n",
       "      <th></th>\n",
       "      <th></th>\n",
       "      <th></th>\n",
       "      <th></th>\n",
       "      <th></th>\n",
       "      <th></th>\n",
       "      <th></th>\n",
       "      <th></th>\n",
       "      <th></th>\n",
       "      <th></th>\n",
       "    </tr>\n",
       "  </thead>\n",
       "  <tbody>\n",
       "    <tr>\n",
       "      <th>2020-04-22</th>\n",
       "      <td>276.100006</td>\n",
       "      <td>55.919998</td>\n",
       "      <td>21.799999</td>\n",
       "      <td>481.000000</td>\n",
       "      <td>60.349998</td>\n",
       "      <td>100.989998</td>\n",
       "      <td>263.850006</td>\n",
       "      <td>44.990002</td>\n",
       "      <td>256.910004</td>\n",
       "      <td>286.149994</td>\n",
       "      <td>2.31</td>\n",
       "      <td>106.839996</td>\n",
       "      <td>121.430000</td>\n",
       "      <td>52.939999</td>\n",
       "      <td>131.589996</td>\n",
       "    </tr>\n",
       "    <tr>\n",
       "      <th>2020-04-23</th>\n",
       "      <td>275.029999</td>\n",
       "      <td>55.900002</td>\n",
       "      <td>21.870001</td>\n",
       "      <td>471.200012</td>\n",
       "      <td>61.279999</td>\n",
       "      <td>101.000000</td>\n",
       "      <td>258.059998</td>\n",
       "      <td>44.939999</td>\n",
       "      <td>255.860001</td>\n",
       "      <td>284.010010</td>\n",
       "      <td>2.30</td>\n",
       "      <td>103.860001</td>\n",
       "      <td>121.680000</td>\n",
       "      <td>51.529999</td>\n",
       "      <td>128.529999</td>\n",
       "    </tr>\n",
       "    <tr>\n",
       "      <th>2020-04-24</th>\n",
       "      <td>282.970001</td>\n",
       "      <td>56.180000</td>\n",
       "      <td>22.180000</td>\n",
       "      <td>475.140015</td>\n",
       "      <td>62.310001</td>\n",
       "      <td>101.190002</td>\n",
       "      <td>263.660004</td>\n",
       "      <td>45.049999</td>\n",
       "      <td>258.760010</td>\n",
       "      <td>289.589996</td>\n",
       "      <td>2.33</td>\n",
       "      <td>107.820000</td>\n",
       "      <td>122.559998</td>\n",
       "      <td>51.580002</td>\n",
       "      <td>129.440002</td>\n",
       "    </tr>\n",
       "    <tr>\n",
       "      <th>2020-04-27</th>\n",
       "      <td>283.170013</td>\n",
       "      <td>56.490002</td>\n",
       "      <td>23.469999</td>\n",
       "      <td>496.649994</td>\n",
       "      <td>63.500000</td>\n",
       "      <td>106.059998</td>\n",
       "      <td>271.829987</td>\n",
       "      <td>45.580002</td>\n",
       "      <td>265.119995</td>\n",
       "      <td>297.079987</td>\n",
       "      <td>2.62</td>\n",
       "      <td>109.879997</td>\n",
       "      <td>124.199997</td>\n",
       "      <td>51.509998</td>\n",
       "      <td>128.300003</td>\n",
       "    </tr>\n",
       "    <tr>\n",
       "      <th>2020-04-28</th>\n",
       "      <td>278.579987</td>\n",
       "      <td>55.509998</td>\n",
       "      <td>23.889999</td>\n",
       "      <td>497.769989</td>\n",
       "      <td>63.240002</td>\n",
       "      <td>106.209999</td>\n",
       "      <td>266.309998</td>\n",
       "      <td>43.580002</td>\n",
       "      <td>264.600006</td>\n",
       "      <td>291.359985</td>\n",
       "      <td>2.83</td>\n",
       "      <td>112.000000</td>\n",
       "      <td>125.489998</td>\n",
       "      <td>50.970001</td>\n",
       "      <td>128.000000</td>\n",
       "    </tr>\n",
       "  </tbody>\n",
       "</table>\n",
       "</div>"
      ],
      "text/plain": [
       "                  AAPL        AMD        BAC         BLK        CVS  \\\n",
       "Date                                                                  \n",
       "2020-04-22  276.100006  55.919998  21.799999  481.000000  60.349998   \n",
       "2020-04-23  275.029999  55.900002  21.870001  471.200012  61.279999   \n",
       "2020-04-24  282.970001  56.180000  22.180000  475.140015  62.310001   \n",
       "2020-04-27  283.170013  56.490002  23.469999  496.649994  63.500000   \n",
       "2020-04-28  278.579987  55.509998  23.889999  497.769989  63.240002   \n",
       "\n",
       "                   DIS        INTU         JD          MA        NVDA   PBI  \\\n",
       "Date                                                                          \n",
       "2020-04-22  100.989998  263.850006  44.990002  256.910004  286.149994  2.31   \n",
       "2020-04-23  101.000000  258.059998  44.939999  255.860001  284.010010  2.30   \n",
       "2020-04-24  101.190002  263.660004  45.049999  258.760010  289.589996  2.33   \n",
       "2020-04-27  106.059998  271.829987  45.580002  265.119995  297.079987  2.62   \n",
       "2020-04-28  106.209999  266.309998  43.580002  264.600006  291.359985  2.83   \n",
       "\n",
       "                   TGT          TM         UL         WMT  \n",
       "Date                                                       \n",
       "2020-04-22  106.839996  121.430000  52.939999  131.589996  \n",
       "2020-04-23  103.860001  121.680000  51.529999  128.529999  \n",
       "2020-04-24  107.820000  122.559998  51.580002  129.440002  \n",
       "2020-04-27  109.879997  124.199997  51.509998  128.300003  \n",
       "2020-04-28  112.000000  125.489998  50.970001  128.000000  "
      ]
     },
     "execution_count": 4,
     "metadata": {},
     "output_type": "execute_result"
    }
   ],
   "source": [
    "prices = ohlc[\"Close\"]\n",
    "prices.tail()"
   ]
  },
  {
   "cell_type": "markdown",
   "metadata": {},
   "source": [
    "## Expected returns and risk models\n",
    "\n",
    "In this notebook, we will use James-Stein shrinkage and semicovariance (which only penalises downside risk)."
   ]
  },
  {
   "cell_type": "code",
   "execution_count": 5,
   "metadata": {},
   "outputs": [
    {
     "data": {
      "text/plain": [
       "'1.2.1'"
      ]
     },
     "execution_count": 5,
     "metadata": {},
     "output_type": "execute_result"
    }
   ],
   "source": [
    "import pypfopt\n",
    "pypfopt.__version__"
   ]
  },
  {
   "cell_type": "code",
   "execution_count": 6,
   "metadata": {},
   "outputs": [],
   "source": [
    "from pypfopt import risk_models, expected_returns\n",
    "from pypfopt import Plotting\n",
    "\n",
    "mu = expected_returns.james_stein_shrinkage(prices)\n",
    "S = risk_models.semicovariance(prices)"
   ]
  },
  {
   "cell_type": "code",
   "execution_count": 7,
   "metadata": {},
   "outputs": [
    {
     "data": {
      "image/png": "[encoded data removed]",
      "text/plain": [
       "<Figure size 720x360 with 1 Axes>"
      ]
     },
     "metadata": {
      "needs_background": "light"
     },
     "output_type": "display_data"
    }
   ],
   "source": [
    "mu.plot.barh(figsize=(10,5));"
   ]
  },
  {
   "cell_type": "code",
   "execution_count": 8,
   "metadata": {},
   "outputs": [
    {
     "data": {
      "image/png": "[encoded data removed]",
      "text/plain": [
       "<Figure size 432x288 with 2 Axes>"
      ]
     },
     "metadata": {
      "needs_background": "light"
     },
     "output_type": "display_data"
    }
   ],
   "source": [
    "Plotting.plot_covariance(S);"
   ]
  },
  {
   "cell_type": "markdown",
   "metadata": {},
   "source": [
    "## Min volatility with a transaction cost objective\n",
    "\n",
    "Let's say that you already have a portfolio, and want to now optimise it. It could be quite expensive to completely reallocate, so you may want to take into account transaction costs. PyPortfolioOpt provides a simple objective to account for this.\n",
    "\n",
    "Note: this objective will not play nicely with `max_sharpe`."
   ]
  },
  {
   "cell_type": "code",
   "execution_count": 9,
   "metadata": {},
   "outputs": [],
   "source": [
    "# Pretend that you started with a default-weight allocation\n",
    "initial_weights = np.array([1/len(tickers)] * len(tickers))"
   ]
  },
  {
   "cell_type": "code",
   "execution_count": 10,
   "metadata": {},
   "outputs": [
    {
     "data": {
      "text/plain": [
       "{'AAPL': 0.06667,\n",
       " 'AMD': 0.0,\n",
       " 'BAC': 0.06175,\n",
       " 'BLK': 0.06667,\n",
       " 'CVS': 0.06667,\n",
       " 'DIS': 0.06667,\n",
       " 'INTU': 0.06667,\n",
       " 'JD': 0.13825,\n",
       " 'MA': 0.06667,\n",
       " 'NVDA': 0.06667,\n",
       " 'PBI': 0.06667,\n",
       " 'TGT': 0.06667,\n",
       " 'TM': 0.06667,\n",
       " 'UL': 0.06667,\n",
       " 'WMT': 0.06667}"
      ]
     },
     "execution_count": 10,
     "metadata": {},
     "output_type": "execute_result"
    }
   ],
   "source": [
    "from pypfopt import EfficientFrontier, objective_functions\n",
    "\n",
    "ef = EfficientFrontier(mu, S)\n",
    "\n",
    "# 1% broker commission\n",
    "ef.add_objective(objective_functions.transaction_cost, w_prev=initial_weights, k=0.01)\n",
    "ef.min_volatility()\n",
    "weights = ef.clean_weights()\n",
    "weights"
   ]
  },
  {
   "cell_type": "markdown",
   "metadata": {},
   "source": [
    "Notice that many of the weights are 0.06667, i.e your original equal weight. In fact, the only change has been an allocation of AMD's weight to JD. If we lower the cost `k`, the allocation will change more:"
   ]
  },
  {
   "cell_type": "code",
   "execution_count": 11,
   "metadata": {},
   "outputs": [
    {
     "data": {
      "text/plain": [
       "{'AAPL': 0.0,\n",
       " 'AMD': 0.0,\n",
       " 'BAC': 0.0,\n",
       " 'BLK': 0.06667,\n",
       " 'CVS': 0.06248,\n",
       " 'DIS': 0.04602,\n",
       " 'INTU': 0.02909,\n",
       " 'JD': 0.44245,\n",
       " 'MA': 0.10639,\n",
       " 'NVDA': 0.0,\n",
       " 'PBI': 0.01656,\n",
       " 'TGT': 0.02273,\n",
       " 'TM': 0.06667,\n",
       " 'UL': 0.07428,\n",
       " 'WMT': 0.06667}"
      ]
     },
     "execution_count": 11,
     "metadata": {},
     "output_type": "execute_result"
    }
   ],
   "source": [
    "ef = EfficientFrontier(mu, S)\n",
    "ef.add_objective(objective_functions.transaction_cost, w_prev=initial_weights, k=0.001)\n",
    "ef.min_volatility()\n",
    "weights = ef.clean_weights()\n",
    "weights"
   ]
  },
  {
   "cell_type": "markdown",
   "metadata": {},
   "source": [
    "The optimiser seems to really like JD. The reason for this is that it is highly anticorrelated to other assets (notice the dark column in the covariance plot). Hence, historically, it adds a lot of diversification. But it is dangerous to place too much emphasis on what happened in the past, so we may want to limit the asset weights. \n",
    "\n",
    "In addition, we notice that 4 stocks have now been allocated zero weight, which may be undesirable. Both of these problems can be fixed by adding an [L2 regularisation objective](https://pyportfolioopt.readthedocs.io/en/latest/EfficientFrontier.html#more-on-l2-regularisation). "
   ]
  },
  {
   "cell_type": "code",
   "execution_count": 12,
   "metadata": {},
   "outputs": [
    {
     "data": {
      "text/plain": [
       "{'AAPL': 0.06358,\n",
       " 'AMD': 0.05814,\n",
       " 'BAC': 0.06324,\n",
       " 'BLK': 0.06803,\n",
       " 'CVS': 0.06723,\n",
       " 'DIS': 0.06667,\n",
       " 'INTU': 0.06639,\n",
       " 'JD': 0.07374,\n",
       " 'MA': 0.07017,\n",
       " 'NVDA': 0.06381,\n",
       " 'PBI': 0.06667,\n",
       " 'TGT': 0.06657,\n",
       " 'TM': 0.06856,\n",
       " 'UL': 0.06906,\n",
       " 'WMT': 0.06815}"
      ]
     },
     "execution_count": 12,
     "metadata": {},
     "output_type": "execute_result"
    }
   ],
   "source": [
    "ef = EfficientFrontier(mu, S)\n",
    "ef.add_objective(objective_functions.transaction_cost, w_prev=initial_weights, k=0.001)\n",
    "ef.add_objective(objective_functions.L2_reg)\n",
    "ef.min_volatility()\n",
    "weights = ef.clean_weights()\n",
    "weights"
   ]
  },
  {
   "cell_type": "markdown",
   "metadata": {},
   "source": [
    "This has had too much of an evening-out effect. After all, if the resulting allocation is going to be so close to equal weights, we may as well stick with our initial allocation. We can reduce the strength of the L2 regularisation by reducing `gamma`:"
   ]
  },
  {
   "cell_type": "code",
   "execution_count": 13,
   "metadata": {},
   "outputs": [
    {
     "data": {
      "text/plain": [
       "{'AAPL': 0.03724,\n",
       " 'AMD': 0.0,\n",
       " 'BAC': 0.02151,\n",
       " 'BLK': 0.07599,\n",
       " 'CVS': 0.06667,\n",
       " 'DIS': 0.06667,\n",
       " 'INTU': 0.06053,\n",
       " 'JD': 0.16039,\n",
       " 'MA': 0.10737,\n",
       " 'NVDA': 0.0352,\n",
       " 'PBI': 0.05978,\n",
       " 'TGT': 0.0592,\n",
       " 'TM': 0.08316,\n",
       " 'UL': 0.08986,\n",
       " 'WMT': 0.07643}"
      ]
     },
     "execution_count": 13,
     "metadata": {},
     "output_type": "execute_result"
    }
   ],
   "source": [
    "ef = EfficientFrontier(mu, S)\n",
    "ef.add_objective(objective_functions.transaction_cost, w_prev=initial_weights, k=0.001)\n",
    "ef.add_objective(objective_functions.L2_reg, gamma=0.05)  # default is 1\n",
    "ef.min_volatility()\n",
    "weights = ef.clean_weights()\n",
    "weights"
   ]
  },
  {
   "cell_type": "code",
   "execution_count": 14,
   "metadata": {},
   "outputs": [
    {
     "name": "stdout",
     "output_type": "stream",
     "text": [
      "Expected annual return: 20.8%\n",
      "Annual volatility: 8.1%\n",
      "Sharpe Ratio: 2.32\n"
     ]
    }
   ],
   "source": [
    "ef.portfolio_performance(verbose=True);"
   ]
  },
  {
   "cell_type": "markdown",
   "metadata": {},
   "source": [
    "This portfolio is now reasonably balanced, but also puts significantly more weight on JD. "
   ]
  },
  {
   "cell_type": "code",
   "execution_count": 15,
   "metadata": {},
   "outputs": [
    {
     "data": {
      "image/png": "[encoded data removed]",
      "text/plain": [
       "<Figure size 720x720 with 1 Axes>"
      ]
     },
     "metadata": {},
     "output_type": "display_data"
    }
   ],
   "source": [
    "pd.Series(weights).plot.pie(figsize=(10,10));"
   ]
  },
  {
   "cell_type": "markdown",
   "metadata": {},
   "source": [
    "## Custom convex objectives\n",
    "\n",
    "PyPortfolioOpt comes with the following built-in objective functions, as of v1.2.1:\n",
    "\n",
    "- Portfolio variance (i.e square of volatility)\n",
    "- Portfolio return\n",
    "- Sharpe ratio\n",
    "- L2 regularisation (minimising this reduces nonzero weights)\n",
    "- Quadratic utility\n",
    "- Transaction cost model (a simple one)\n",
    "\n",
    "However, you may want have a different objective. If this new objective is **convex**, you can optimise a portfolio with the full benefit of PyPortfolioOpt's modular syntax, for example adding other constraints and objectives.\n",
    "\n",
    "To demonstrate this, we will minimise the **logarithmic-barrier** function suggested in the paper 60 Years of Portfolio Optimisation, by Kolm et al (2014):\n",
    "\n",
    "$$f(w, S, k) = w^T S w - k \\sum_{i=1}^N \\ln w$$\n",
    "\n",
    "We must first convert this mathematical objective into the language of cvxpy. Cvxpy is a powerful modelling language for convex optimisation problems. It is clean and easy to use, the only caveat is that objectives must be expressed with `cvxpy` functions, a list of which can be found [here](https://www.cvxpy.org/tutorial/functions/index.html)."
   ]
  },
  {
   "cell_type": "code",
   "execution_count": 16,
   "metadata": {},
   "outputs": [],
   "source": [
    "import cvxpy as cp\n",
    "\n",
    "# Note: functions are minimised. If you want to maximise an objective, stick a minus sign in it.\n",
    "def logarithmic_barrier_objective(w, cov_matrix, k=0.1):\n",
    "    log_sum = cp.sum(cp.log(w))\n",
    "    var = cp.quad_form(w, cov_matrix)\n",
    "    return var - k * log_sum"
   ]
  },
  {
   "cell_type": "markdown",
   "metadata": {},
   "source": [
    "Once we have written the objective function, we can just use the `ef.convex_objective()` to minimise the objective."
   ]
  },
  {
   "cell_type": "code",
   "execution_count": 17,
   "metadata": {},
   "outputs": [
    {
     "data": {
      "text/plain": [
       "{'AAPL': 0.045,\n",
       " 'AMD': 0.03303,\n",
       " 'BAC': 0.04241,\n",
       " 'BLK': 0.06853,\n",
       " 'CVS': 0.06345,\n",
       " 'DIS': 0.05821,\n",
       " 'INTU': 0.05462,\n",
       " 'JD': 0.16933,\n",
       " 'MA': 0.08921,\n",
       " 'NVDA': 0.04469,\n",
       " 'PBI': 0.0551,\n",
       " 'TGT': 0.05483,\n",
       " 'TM': 0.07331,\n",
       " 'UL': 0.07777,\n",
       " 'WMT': 0.07053}"
      ]
     },
     "execution_count": 17,
     "metadata": {},
     "output_type": "execute_result"
    }
   ],
   "source": [
    "ef = EfficientFrontier(mu, S, weight_bounds=(0.01, 0.2))\n",
    "ef.convex_objective(logarithmic_barrier_objective, cov_matrix=S, k=0.001)\n",
    "weights = ef.clean_weights()\n",
    "weights"
   ]
  },
  {
   "cell_type": "code",
   "execution_count": 18,
   "metadata": {},
   "outputs": [
    {
     "name": "stdout",
     "output_type": "stream",
     "text": [
      "Expected annual return: 20.9%\n",
      "Annual volatility: 8.5%\n",
      "Sharpe Ratio: 2.22\n"
     ]
    }
   ],
   "source": [
    "ef.portfolio_performance(verbose=True);"
   ]
  },
  {
   "cell_type": "markdown",
   "metadata": {},
   "source": [
    "This is compatible with all the constraints discussed in the previous recipe. Let's say that we want to limit JD's weight to 15%."
   ]
  },
  {
   "cell_type": "code",
   "execution_count": 19,
   "metadata": {},
   "outputs": [
    {
     "data": {
      "text/plain": [
       "{'AAPL': 0.04558,\n",
       " 'AMD': 0.03327,\n",
       " 'BAC': 0.04282,\n",
       " 'BLK': 0.07045,\n",
       " 'CVS': 0.06484,\n",
       " 'DIS': 0.05928,\n",
       " 'INTU': 0.05564,\n",
       " 'JD': 0.15,\n",
       " 'MA': 0.09311,\n",
       " 'NVDA': 0.04536,\n",
       " 'PBI': 0.05616,\n",
       " 'TGT': 0.05574,\n",
       " 'TM': 0.07531,\n",
       " 'UL': 0.08016,\n",
       " 'WMT': 0.07228}"
      ]
     },
     "execution_count": 19,
     "metadata": {},
     "output_type": "execute_result"
    }
   ],
   "source": [
    "ef = EfficientFrontier(mu, S, weight_bounds=(0.01, 0.2))\n",
    "jd_index = ef.tickers.index(\"JD\")  # get the index of JD\n",
    "ef.add_constraint(lambda w: w[jd_index] <= 0.15)\n",
    "ef.convex_objective(logarithmic_barrier_objective, cov_matrix=S, k=0.001)\n",
    "weights = ef.clean_weights()\n",
    "weights"
   ]
  },
  {
   "cell_type": "markdown",
   "metadata": {},
   "source": [
    "## Custom nonconvex objectives\n",
    "\n",
    "In some cases, you may be trying to optimise for nonconvex objectives. Optimisation in general is a very hard problem, so please be aware that you may have mixed results in that case. Convex problems, on the other hand, are well understood and can be solved with nice theoretical guarantees.\n",
    "\n",
    "PyPortfolioOpt does offer some functionality for nonconvex optimisation, but it is not really encouraged. In particular, nonconvex optimisation is not compatible with PyPortfolioOpt's modular constraints API.\n",
    "\n",
    "As an example, we will use the Deviation Risk Parity objective from Kolm et al (2014). Because we are not using a convex solver, we don't have to define it using `cvxpy` functions."
   ]
  },
  {
   "cell_type": "code",
   "execution_count": 20,
   "metadata": {},
   "outputs": [],
   "source": [
    "def deviation_risk_parity(w, cov_matrix):\n",
    "    diff = w * np.dot(cov_matrix, w) - (w * np.dot(cov_matrix, w)).reshape(-1, 1)\n",
    "    return (diff ** 2).sum().sum()"
   ]
  },
  {
   "cell_type": "code",
   "execution_count": 21,
   "metadata": {},
   "outputs": [
    {
     "data": {
      "text/plain": [
       "{'AAPL': 0.0584,\n",
       " 'AMD': 0.03286,\n",
       " 'BAC': 0.05909,\n",
       " 'BLK': 0.07276,\n",
       " 'CVS': 0.07203,\n",
       " 'DIS': 0.06991,\n",
       " 'INTU': 0.06757,\n",
       " 'JD': 0.07456,\n",
       " 'MA': 0.07476,\n",
       " 'NVDA': 0.05967,\n",
       " 'PBI': 0.06897,\n",
       " 'TGT': 0.0686,\n",
       " 'TM': 0.07349,\n",
       " 'UL': 0.07406,\n",
       " 'WMT': 0.07325}"
      ]
     },
     "execution_count": 21,
     "metadata": {},
     "output_type": "execute_result"
    }
   ],
   "source": [
    "ef = EfficientFrontier(mu, S, weight_bounds=(0.01, 0.12))\n",
    "ef.nonconvex_objective(deviation_risk_parity, ef.cov_matrix)\n",
    "weights = ef.clean_weights()\n",
    "weights"
   ]
  },
  {
   "cell_type": "markdown",
   "metadata": {},
   "source": [
    "However, let's say we now want to enforce that JD has a weight of 10%. In the convex case, this would be as simple as:\n",
    "\n",
    "```python\n",
    "ef.add_objective(lambda w: w[jd_index] == 0.10)\n",
    "```\n",
    "\n",
    "But unfortunately it is not so simple for PyPortfolioOpt's nonconvex optimisation. Constraints should be passed using the `scipy` syntax. This means you need to rearrange your constraints to make them either `=0` or `<= 0`. \n",
    "\n",
    "```python\n",
    "constraints = [\n",
    "    # First constraint\n",
    "     {\"type\": \"eq\",  # equality constraint,\n",
    "      \"fun\": lambda w: w[1] - 0.2},  # the equality functions are assumed to = 0 \n",
    "      \n",
    "    # Second constraint\n",
    "    {\"type\": \"ineq\",  # inequality constraint\n",
    "     \"fun\": lambda w: w[0] - 0.5}   # inequality functions <= 0\n",
    "]\n",
    "```\n",
    "\n",
    "For more information, you can consult the [scipy docs](https://docs.scipy.org/doc/scipy/reference/generated/scipy.optimize.minimize.html), but they aren't very helpful."
   ]
  },
  {
   "cell_type": "code",
   "execution_count": 22,
   "metadata": {},
   "outputs": [
    {
     "data": {
      "text/plain": [
       "{'AAPL': 0.06409,\n",
       " 'AMD': 0.06339,\n",
       " 'BAC': 0.06411,\n",
       " 'BLK': 0.06446,\n",
       " 'CVS': 0.06444,\n",
       " 'DIS': 0.06439,\n",
       " 'INTU': 0.06433,\n",
       " 'JD': 0.1,\n",
       " 'MA': 0.06451,\n",
       " 'NVDA': 0.06412,\n",
       " 'PBI': 0.06437,\n",
       " 'TGT': 0.06436,\n",
       " 'TM': 0.06448,\n",
       " 'UL': 0.06449,\n",
       " 'WMT': 0.06447}"
      ]
     },
     "execution_count": 22,
     "metadata": {},
     "output_type": "execute_result"
    }
   ],
   "source": [
    "ef = EfficientFrontier(mu, S, weight_bounds=(0.01, 0.12))\n",
    "\n",
    "ef.nonconvex_objective(\n",
    "    deviation_risk_parity,\n",
    "    objective_args=S,\n",
    "    weights_sum_to_one=True,\n",
    "    constraints=[\n",
    "        {\"type\": \"eq\", \"fun\": lambda w: w[jd_index] - 0.10},  \n",
    "    ],\n",
    ")\n",
    "\n",
    "weights = ef.clean_weights()\n",
    "weights"
   ]
  },
  {
   "cell_type": "markdown",
   "metadata": {},
   "source": [
    "## More examples of nonconvex objectives\n",
    "\n",
    "The scipy format is not intuitive and is hard to explain, so here are a bunch of examples (adapted from the tests). Some of these are actually convex, so you should use `convex_objective` instead. "
   ]
  },
  {
   "cell_type": "code",
   "execution_count": 23,
   "metadata": {},
   "outputs": [
    {
     "data": {
      "text/plain": [
       "{'AAPL': 0.04422,\n",
       " 'AMD': 0.03235,\n",
       " 'BAC': 0.04164,\n",
       " 'BLK': 0.06828,\n",
       " 'CVS': 0.06293,\n",
       " 'DIS': 0.0577,\n",
       " 'INTU': 0.05398,\n",
       " 'JD': 0.17547,\n",
       " 'MA': 0.08956,\n",
       " 'NVDA': 0.04394,\n",
       " 'PBI': 0.05431,\n",
       " 'TGT': 0.05424,\n",
       " 'TM': 0.07314,\n",
       " 'UL': 0.07796,\n",
       " 'WMT': 0.07027}"
      ]
     },
     "execution_count": 23,
     "metadata": {},
     "output_type": "execute_result"
    }
   ],
   "source": [
    "# Another example of deviation risk parity\n",
    "def deviation_risk_parity(w, cov_matrix):\n",
    "    n = cov_matrix.shape[0]\n",
    "    rp = (w * (cov_matrix @ w)) / cp.quad_form(w, cov_matrix)\n",
    "    return cp.sum_squares(rp - 1 / n).value\n",
    "\n",
    "ef = EfficientFrontier(mu, S)\n",
    "ef.nonconvex_objective(deviation_risk_parity, ef.cov_matrix)\n",
    "weights = ef.clean_weights()\n",
    "weights"
   ]
  },
  {
   "cell_type": "code",
   "execution_count": 24,
   "metadata": {},
   "outputs": [
    {
     "data": {
      "text/plain": [
       "{'AAPL': 0.1,\n",
       " 'AMD': 0.03493,\n",
       " 'BAC': 0.04804,\n",
       " 'BLK': 0.07263,\n",
       " 'CVS': 0.06675,\n",
       " 'DIS': 0.06199,\n",
       " 'INTU': 0.05647,\n",
       " 'JD': 0.08488,\n",
       " 'MA': 0.08873,\n",
       " 'NVDA': 0.04905,\n",
       " 'PBI': 0.06042,\n",
       " 'TGT': 0.05813,\n",
       " 'TM': 0.07242,\n",
       " 'UL': 0.07596,\n",
       " 'WMT': 0.0696}"
      ]
     },
     "execution_count": 24,
     "metadata": {},
     "output_type": "execute_result"
    }
   ],
   "source": [
    "# Deviation risk parity with weight bound on the first asset\n",
    "ef = EfficientFrontier(mu, S)\n",
    "ef.nonconvex_objective(deviation_risk_parity, \n",
    "                       ef.cov_matrix, \n",
    "                       constraints=[{\"type\":\"eq\", \"fun\":lambda w: w[0] - 0.1}])\n",
    "weights = ef.clean_weights()\n",
    "weights"
   ]
  },
  {
   "cell_type": "code",
   "execution_count": 25,
   "metadata": {},
   "outputs": [
    {
     "data": {
      "text/plain": [
       "{'AAPL': 0.1308,\n",
       " 'AMD': 0.00914,\n",
       " 'BAC': -0.31351,\n",
       " 'BLK': -0.10581,\n",
       " 'CVS': -0.20586,\n",
       " 'DIS': -0.00493,\n",
       " 'INTU': 0.14094,\n",
       " 'JD': -0.13478,\n",
       " 'MA': 1.0,\n",
       " 'NVDA': 0.47117,\n",
       " 'PBI': -0.35809,\n",
       " 'TGT': 0.00813,\n",
       " 'TM': -0.34661,\n",
       " 'UL': -0.52558,\n",
       " 'WMT': 0.23499}"
      ]
     },
     "execution_count": 25,
     "metadata": {},
     "output_type": "execute_result"
    }
   ],
   "source": [
    "# Market-neutral efficient risk.\n",
    "# Please use ef.efficient_risk() for anything serious.\n",
    "target_risk = 0.19\n",
    "ef = EfficientFrontier(mu, S, weight_bounds=(None, None))\n",
    "\n",
    "# Weights sum to zero\n",
    "weight_constr = {\"type\": \"eq\", \"fun\": lambda w: np.sum(w)}\n",
    "\n",
    "# Portfolio vol less than target vol\n",
    "risk_constr = {\n",
    "    \"type\": \"eq\",\n",
    "    \"fun\": lambda w: target_risk ** 2 - np.dot(w.T, np.dot(ef.cov_matrix, w)),\n",
    "}\n",
    "constraints = [weight_constr, risk_constr]\n",
    "\n",
    "ef.nonconvex_objective(\n",
    "    lambda w, mu: -w.T.dot(mu),  # min negative return i.e max return\n",
    "    objective_args=(ef.expected_returns),\n",
    "    weights_sum_to_one=False,\n",
    "    constraints=constraints,\n",
    ")\n",
    "weights = ef.clean_weights()\n",
    "weights"
   ]
  },
  {
   "cell_type": "code",
   "execution_count": 26,
   "metadata": {},
   "outputs": [
    {
     "data": {
      "text/plain": [
       "{'AAPL': 0.0,\n",
       " 'AMD': 0.0,\n",
       " 'BAC': 0.0,\n",
       " 'BLK': 0.0,\n",
       " 'CVS': 0.0,\n",
       " 'DIS': 0.0,\n",
       " 'INTU': 0.0,\n",
       " 'JD': 0.0,\n",
       " 'MA': 0.67096,\n",
       " 'NVDA': 0.32904,\n",
       " 'PBI': 0.0,\n",
       " 'TGT': 0.0,\n",
       " 'TM': 0.0,\n",
       " 'UL': 0.0,\n",
       " 'WMT': 0.0}"
      ]
     },
     "execution_count": 26,
     "metadata": {},
     "output_type": "execute_result"
    }
   ],
   "source": [
    "# Utility objective - you could actually use ef.max_quadratic_utility\n",
    "ef = EfficientFrontier(mu, S)\n",
    "\n",
    "def utility_obj(weights, mu, cov_matrix, k=1):\n",
    "    return -weights.dot(mu) + k * np.dot(weights.T, np.dot(cov_matrix, weights))\n",
    "\n",
    "ef.nonconvex_objective(\n",
    "    utility_obj,\n",
    "    objective_args=(ef.expected_returns, ef.cov_matrix, 1)\n",
    "    # default is for weights to sum to 1\n",
    ")\n",
    "\n",
    "weights = ef.clean_weights()\n",
    "weights"
   ]
  },
  {
   "cell_type": "code",
   "execution_count": 27,
   "metadata": {},
   "outputs": [
    {
     "data": {
      "text/plain": [
       "1.0000000000000002"
      ]
     },
     "execution_count": 27,
     "metadata": {},
     "output_type": "execute_result"
    }
   ],
   "source": [
    "ef.weights.sum()"
   ]
  },
  {
   "cell_type": "code",
   "execution_count": 29,
   "metadata": {},
   "outputs": [
    {
     "data": {
      "text/plain": [
       "{'AAPL': 0.06667,\n",
       " 'AMD': 0.06667,\n",
       " 'BAC': 0.06667,\n",
       " 'BLK': 0.06667,\n",
       " 'CVS': 0.06667,\n",
       " 'DIS': 0.06667,\n",
       " 'INTU': 0.06667,\n",
       " 'JD': 0.06667,\n",
       " 'MA': 0.06667,\n",
       " 'NVDA': 0.06667,\n",
       " 'PBI': 0.06667,\n",
       " 'TGT': 0.06667,\n",
       " 'TM': 0.06667,\n",
       " 'UL': 0.06667,\n",
       " 'WMT': 0.06667}"
      ]
     },
     "execution_count": 29,
     "metadata": {},
     "output_type": "execute_result"
    }
   ],
   "source": [
    "# Kelly objective with weight bounds on zeroth asset\n",
    "def kelly_objective(w, e_returns, cov_matrix, k=3):\n",
    "    variance = np.dot(w.T, np.dot(cov_matrix, w))\n",
    "    objective = variance * 0.5 * k - np.dot(w, e_returns)\n",
    "    return objective\n",
    "\n",
    "lower_bounds, upper_bounds = 0.01, 0.3\n",
    "ef = EfficientFrontier(mu, S)\n",
    "ef.nonconvex_objective(\n",
    "    kelly_objective,\n",
    "    objective_args=(ef.expected_returns, ef.cov_matrix, 1000),\n",
    "    constraints=[\n",
    "        {\"type\": \"eq\", \"fun\": lambda w: np.sum(w) - 1},\n",
    "        {\"type\": \"ineq\", \"fun\": lambda w: w[0] - lower_bounds},\n",
    "        {\"type\": \"ineq\", \"fun\": lambda w: upper_bounds - w[0]},\n",
    "    ],\n",
    ")\n",
    "\n",
    "weights = ef.clean_weights()\n",
    "weights"
   ]
  },
  {
   "cell_type": "code",
   "execution_count": null,
   "metadata": {},
   "outputs": [],
   "source": []
  }
 ],
 "metadata": {
  "kernelspec": {
   "display_name": "Python 3",
   "language": "python",
   "name": "python3"
  },
  "language_info": {
   "codemirror_mode": {
    "name": "ipython",
    "version": 3
   },
   "file_extension": ".py",
   "mimetype": "text/x-python",
   "name": "python",
   "nbconvert_exporter": "python",
   "pygments_lexer": "ipython3",
   "version": "3.7.5"
  }
 },
 "nbformat": 4,
 "nbformat_minor": 2
}
