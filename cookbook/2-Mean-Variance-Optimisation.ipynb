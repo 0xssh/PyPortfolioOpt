{
 "cells": [
  {
   "cell_type": "markdown",
   "metadata": {},
   "source": [
    "# Mean-variance optimisation\n",
    "\n",
    "In this cookbook recipe, we work on several examples demonstrating PyPortfolioOpt's mean-variance capabilities. I will discuss what I think should be your \"default\" options, based on my experience in optimising portfolios.\n",
    "\n",
    "To start, you need a list of tickers. Some people just provide the whole universe of stocks, but I don't think this is a good idea - portfolio optimisation is quite different from asset selection. I would suggest anywhere from 10-50 stocks as a starting point.\n",
    "\n",
    "Some of the things we cover:\n",
    "\n",
    "- Downloading data and getting it into PyPortfolioOpt\n",
    "- Calculating and visualising the covariance matrix\n",
    "- Optimising a long/short portfolio to minimise total variance\n",
    "- Optimising a portfolio to maximise the Sharpe ratio, subject to sector constraints\n",
    "- Optimising a portfolio to maximise return for a given risk, subject to sector constraints, with an L2 regularisation objective\n",
    "- Optimising a market-neutral portfolio to minimise risk for a given level of return\n",
    "\n",
    "Please consult the \n",
    "\n",
    "## Downloading data\n",
    "\n",
    "To download data, we will use `yfinance`, an excellent library that provides free price data from Yahoo Finance, no API key needed."
   ]
  },
  {
   "cell_type": "code",
   "execution_count": 1,
   "metadata": {},
   "outputs": [],
   "source": [
    "import yfinance as yf\n",
    "import matplotlib.pyplot as plt\n",
    "import pandas as pd"
   ]
  },
  {
   "cell_type": "code",
   "execution_count": 2,
   "metadata": {},
   "outputs": [],
   "source": [
    "tickers = [\"MSFT\", \"AMZN\", \"KO\", \"MA\", \"COST\", \n",
    "           \"LUV\", \"XOM\", \"PFE\", \"JPM\", \"UNH\", \n",
    "           \"ACN\", \"DIS\", \"GILD\", \"F\", \"TSLA\"] "
   ]
  },
  {
   "cell_type": "code",
   "execution_count": 3,
   "metadata": {},
   "outputs": [
    {
     "name": "stdout",
     "output_type": "stream",
     "text": [
      "[*********************100%***********************]  15 of 15 completed\n"
     ]
    }
   ],
   "source": [
    "ohlc = yf.download(tickers, period=\"max\")"
   ]
  },
  {
   "cell_type": "code",
   "execution_count": 4,
   "metadata": {},
   "outputs": [
    {
     "data": {
      "text/html": [
       "<div>\n",
       "<style scoped>\n",
       "    .dataframe tbody tr th:only-of-type {\n",
       "        vertical-align: middle;\n",
       "    }\n",
       "\n",
       "    .dataframe tbody tr th {\n",
       "        vertical-align: top;\n",
       "    }\n",
       "\n",
       "    .dataframe thead th {\n",
       "        text-align: right;\n",
       "    }\n",
       "</style>\n",
       "<table border=\"1\" class=\"dataframe\">\n",
       "  <thead>\n",
       "    <tr style=\"text-align: right;\">\n",
       "      <th></th>\n",
       "      <th>ACN</th>\n",
       "      <th>AMZN</th>\n",
       "      <th>COST</th>\n",
       "      <th>DIS</th>\n",
       "      <th>F</th>\n",
       "      <th>GILD</th>\n",
       "      <th>JPM</th>\n",
       "      <th>KO</th>\n",
       "      <th>LUV</th>\n",
       "      <th>MA</th>\n",
       "      <th>MSFT</th>\n",
       "      <th>PFE</th>\n",
       "      <th>TSLA</th>\n",
       "      <th>UNH</th>\n",
       "      <th>XOM</th>\n",
       "    </tr>\n",
       "    <tr>\n",
       "      <th>Date</th>\n",
       "      <th></th>\n",
       "      <th></th>\n",
       "      <th></th>\n",
       "      <th></th>\n",
       "      <th></th>\n",
       "      <th></th>\n",
       "      <th></th>\n",
       "      <th></th>\n",
       "      <th></th>\n",
       "      <th></th>\n",
       "      <th></th>\n",
       "      <th></th>\n",
       "      <th></th>\n",
       "      <th></th>\n",
       "      <th></th>\n",
       "    </tr>\n",
       "  </thead>\n",
       "  <tbody>\n",
       "    <tr>\n",
       "      <th>2020-04-22</th>\n",
       "      <td>172.309998</td>\n",
       "      <td>2363.489990</td>\n",
       "      <td>309.420013</td>\n",
       "      <td>100.989998</td>\n",
       "      <td>4.77</td>\n",
       "      <td>81.309998</td>\n",
       "      <td>89.339996</td>\n",
       "      <td>45.680000</td>\n",
       "      <td>29.709999</td>\n",
       "      <td>256.910004</td>\n",
       "      <td>173.520004</td>\n",
       "      <td>36.250000</td>\n",
       "      <td>732.109985</td>\n",
       "      <td>277.019989</td>\n",
       "      <td>42.130001</td>\n",
       "    </tr>\n",
       "    <tr>\n",
       "      <th>2020-04-23</th>\n",
       "      <td>172.899994</td>\n",
       "      <td>2399.449951</td>\n",
       "      <td>305.399994</td>\n",
       "      <td>101.000000</td>\n",
       "      <td>4.89</td>\n",
       "      <td>77.779999</td>\n",
       "      <td>89.389999</td>\n",
       "      <td>45.070000</td>\n",
       "      <td>30.139999</td>\n",
       "      <td>255.860001</td>\n",
       "      <td>171.419998</td>\n",
       "      <td>36.689999</td>\n",
       "      <td>705.630005</td>\n",
       "      <td>285.329987</td>\n",
       "      <td>43.450001</td>\n",
       "    </tr>\n",
       "    <tr>\n",
       "      <th>2020-04-24</th>\n",
       "      <td>175.460007</td>\n",
       "      <td>2410.219971</td>\n",
       "      <td>310.549988</td>\n",
       "      <td>101.190002</td>\n",
       "      <td>4.87</td>\n",
       "      <td>79.639999</td>\n",
       "      <td>90.709999</td>\n",
       "      <td>45.430000</td>\n",
       "      <td>29.330000</td>\n",
       "      <td>258.760010</td>\n",
       "      <td>174.550003</td>\n",
       "      <td>37.380001</td>\n",
       "      <td>725.150024</td>\n",
       "      <td>291.290009</td>\n",
       "      <td>43.730000</td>\n",
       "    </tr>\n",
       "    <tr>\n",
       "      <th>2020-04-27</th>\n",
       "      <td>179.429993</td>\n",
       "      <td>2376.000000</td>\n",
       "      <td>308.779999</td>\n",
       "      <td>106.059998</td>\n",
       "      <td>5.17</td>\n",
       "      <td>79.900002</td>\n",
       "      <td>94.620003</td>\n",
       "      <td>46.779999</td>\n",
       "      <td>29.110001</td>\n",
       "      <td>265.119995</td>\n",
       "      <td>174.050003</td>\n",
       "      <td>38.330002</td>\n",
       "      <td>798.750000</td>\n",
       "      <td>293.980011</td>\n",
       "      <td>43.939999</td>\n",
       "    </tr>\n",
       "    <tr>\n",
       "      <th>2020-04-28</th>\n",
       "      <td>178.360001</td>\n",
       "      <td>2314.080078</td>\n",
       "      <td>304.950012</td>\n",
       "      <td>106.209999</td>\n",
       "      <td>5.38</td>\n",
       "      <td>78.669998</td>\n",
       "      <td>95.290001</td>\n",
       "      <td>46.740002</td>\n",
       "      <td>29.690001</td>\n",
       "      <td>264.600006</td>\n",
       "      <td>169.809998</td>\n",
       "      <td>37.910000</td>\n",
       "      <td>769.119995</td>\n",
       "      <td>288.359985</td>\n",
       "      <td>44.970001</td>\n",
       "    </tr>\n",
       "  </tbody>\n",
       "</table>\n",
       "</div>"
      ],
      "text/plain": [
       "                   ACN         AMZN        COST         DIS     F       GILD  \\\n",
       "Date                                                                           \n",
       "2020-04-22  172.309998  2363.489990  309.420013  100.989998  4.77  81.309998   \n",
       "2020-04-23  172.899994  2399.449951  305.399994  101.000000  4.89  77.779999   \n",
       "2020-04-24  175.460007  2410.219971  310.549988  101.190002  4.87  79.639999   \n",
       "2020-04-27  179.429993  2376.000000  308.779999  106.059998  5.17  79.900002   \n",
       "2020-04-28  178.360001  2314.080078  304.950012  106.209999  5.38  78.669998   \n",
       "\n",
       "                  JPM         KO        LUV          MA        MSFT  \\\n",
       "Date                                                                  \n",
       "2020-04-22  89.339996  45.680000  29.709999  256.910004  173.520004   \n",
       "2020-04-23  89.389999  45.070000  30.139999  255.860001  171.419998   \n",
       "2020-04-24  90.709999  45.430000  29.330000  258.760010  174.550003   \n",
       "2020-04-27  94.620003  46.779999  29.110001  265.119995  174.050003   \n",
       "2020-04-28  95.290001  46.740002  29.690001  264.600006  169.809998   \n",
       "\n",
       "                  PFE        TSLA         UNH        XOM  \n",
       "Date                                                      \n",
       "2020-04-22  36.250000  732.109985  277.019989  42.130001  \n",
       "2020-04-23  36.689999  705.630005  285.329987  43.450001  \n",
       "2020-04-24  37.380001  725.150024  291.290009  43.730000  \n",
       "2020-04-27  38.330002  798.750000  293.980011  43.939999  \n",
       "2020-04-28  37.910000  769.119995  288.359985  44.970001  "
      ]
     },
     "execution_count": 4,
     "metadata": {},
     "output_type": "execute_result"
    }
   ],
   "source": [
    "prices = ohlc[\"Close\"]\n",
    "prices.tail()"
   ]
  },
  {
   "cell_type": "code",
   "execution_count": 5,
   "metadata": {},
   "outputs": [
    {
     "data": {
      "image/png": "[encoded data removed]",
      "text/plain": [
       "<Figure size 1080x720 with 1 Axes>"
      ]
     },
     "metadata": {
      "needs_background": "light"
     },
     "output_type": "display_data"
    }
   ],
   "source": [
    "prices[prices.index >= \"2008-01-01\"].plot(figsize=(15,10));"
   ]
  },
  {
   "cell_type": "markdown",
   "metadata": {},
   "source": [
    "## Calculating the covariance matrix"
   ]
  },
  {
   "cell_type": "code",
   "execution_count": 6,
   "metadata": {},
   "outputs": [
    {
     "data": {
      "text/plain": [
       "'1.2.1'"
      ]
     },
     "execution_count": 6,
     "metadata": {},
     "output_type": "execute_result"
    }
   ],
   "source": [
    "import pypfopt\n",
    "pypfopt.__version__"
   ]
  },
  {
   "cell_type": "code",
   "execution_count": 7,
   "metadata": {},
   "outputs": [
    {
     "data": {
      "text/html": [
       "<div>\n",
       "<style scoped>\n",
       "    .dataframe tbody tr th:only-of-type {\n",
       "        vertical-align: middle;\n",
       "    }\n",
       "\n",
       "    .dataframe tbody tr th {\n",
       "        vertical-align: top;\n",
       "    }\n",
       "\n",
       "    .dataframe thead th {\n",
       "        text-align: right;\n",
       "    }\n",
       "</style>\n",
       "<table border=\"1\" class=\"dataframe\">\n",
       "  <thead>\n",
       "    <tr style=\"text-align: right;\">\n",
       "      <th></th>\n",
       "      <th>ACN</th>\n",
       "      <th>AMZN</th>\n",
       "      <th>COST</th>\n",
       "      <th>DIS</th>\n",
       "      <th>F</th>\n",
       "      <th>GILD</th>\n",
       "      <th>JPM</th>\n",
       "      <th>KO</th>\n",
       "      <th>LUV</th>\n",
       "      <th>MA</th>\n",
       "      <th>MSFT</th>\n",
       "      <th>PFE</th>\n",
       "      <th>TSLA</th>\n",
       "      <th>UNH</th>\n",
       "      <th>XOM</th>\n",
       "    </tr>\n",
       "  </thead>\n",
       "  <tbody>\n",
       "    <tr>\n",
       "      <th>ACN</th>\n",
       "      <td>0.093237</td>\n",
       "      <td>0.045569</td>\n",
       "      <td>0.027716</td>\n",
       "      <td>0.040676</td>\n",
       "      <td>0.043760</td>\n",
       "      <td>0.030402</td>\n",
       "      <td>0.049872</td>\n",
       "      <td>0.020071</td>\n",
       "      <td>0.035900</td>\n",
       "      <td>0.045170</td>\n",
       "      <td>0.040463</td>\n",
       "      <td>0.026729</td>\n",
       "      <td>0.037618</td>\n",
       "      <td>0.030807</td>\n",
       "      <td>0.030626</td>\n",
       "    </tr>\n",
       "    <tr>\n",
       "      <th>AMZN</th>\n",
       "      <td>0.045569</td>\n",
       "      <td>0.351349</td>\n",
       "      <td>0.048372</td>\n",
       "      <td>0.056606</td>\n",
       "      <td>0.054542</td>\n",
       "      <td>0.062826</td>\n",
       "      <td>0.070434</td>\n",
       "      <td>0.020886</td>\n",
       "      <td>0.049402</td>\n",
       "      <td>0.058004</td>\n",
       "      <td>0.072537</td>\n",
       "      <td>0.033782</td>\n",
       "      <td>0.051145</td>\n",
       "      <td>0.036059</td>\n",
       "      <td>0.028264</td>\n",
       "    </tr>\n",
       "    <tr>\n",
       "      <th>COST</th>\n",
       "      <td>0.027716</td>\n",
       "      <td>0.048372</td>\n",
       "      <td>0.104963</td>\n",
       "      <td>0.032944</td>\n",
       "      <td>0.031892</td>\n",
       "      <td>0.028353</td>\n",
       "      <td>0.040312</td>\n",
       "      <td>0.021527</td>\n",
       "      <td>0.032520</td>\n",
       "      <td>0.033693</td>\n",
       "      <td>0.037334</td>\n",
       "      <td>0.026277</td>\n",
       "      <td>0.021218</td>\n",
       "      <td>0.028010</td>\n",
       "      <td>0.021413</td>\n",
       "    </tr>\n",
       "    <tr>\n",
       "      <th>DIS</th>\n",
       "      <td>0.040676</td>\n",
       "      <td>0.056606</td>\n",
       "      <td>0.032944</td>\n",
       "      <td>0.099191</td>\n",
       "      <td>0.039687</td>\n",
       "      <td>0.033977</td>\n",
       "      <td>0.046787</td>\n",
       "      <td>0.026054</td>\n",
       "      <td>0.037101</td>\n",
       "      <td>0.049089</td>\n",
       "      <td>0.043246</td>\n",
       "      <td>0.030167</td>\n",
       "      <td>0.038831</td>\n",
       "      <td>0.032666</td>\n",
       "      <td>0.024694</td>\n",
       "    </tr>\n",
       "    <tr>\n",
       "      <th>F</th>\n",
       "      <td>0.043760</td>\n",
       "      <td>0.054542</td>\n",
       "      <td>0.031892</td>\n",
       "      <td>0.039687</td>\n",
       "      <td>0.124239</td>\n",
       "      <td>0.030982</td>\n",
       "      <td>0.053439</td>\n",
       "      <td>0.025976</td>\n",
       "      <td>0.043251</td>\n",
       "      <td>0.063604</td>\n",
       "      <td>0.041932</td>\n",
       "      <td>0.027720</td>\n",
       "      <td>0.051453</td>\n",
       "      <td>0.029447</td>\n",
       "      <td>0.025792</td>\n",
       "    </tr>\n",
       "    <tr>\n",
       "      <th>GILD</th>\n",
       "      <td>0.030402</td>\n",
       "      <td>0.062826</td>\n",
       "      <td>0.028353</td>\n",
       "      <td>0.033977</td>\n",
       "      <td>0.030982</td>\n",
       "      <td>0.248813</td>\n",
       "      <td>0.044629</td>\n",
       "      <td>0.017037</td>\n",
       "      <td>0.032451</td>\n",
       "      <td>0.035388</td>\n",
       "      <td>0.036888</td>\n",
       "      <td>0.033623</td>\n",
       "      <td>0.032935</td>\n",
       "      <td>0.035376</td>\n",
       "      <td>0.021805</td>\n",
       "    </tr>\n",
       "    <tr>\n",
       "      <th>JPM</th>\n",
       "      <td>0.049872</td>\n",
       "      <td>0.070434</td>\n",
       "      <td>0.040312</td>\n",
       "      <td>0.046787</td>\n",
       "      <td>0.053439</td>\n",
       "      <td>0.044629</td>\n",
       "      <td>0.130776</td>\n",
       "      <td>0.027708</td>\n",
       "      <td>0.047361</td>\n",
       "      <td>0.073454</td>\n",
       "      <td>0.051214</td>\n",
       "      <td>0.033549</td>\n",
       "      <td>0.041516</td>\n",
       "      <td>0.039271</td>\n",
       "      <td>0.031614</td>\n",
       "    </tr>\n",
       "    <tr>\n",
       "      <th>KO</th>\n",
       "      <td>0.020071</td>\n",
       "      <td>0.020886</td>\n",
       "      <td>0.021527</td>\n",
       "      <td>0.026054</td>\n",
       "      <td>0.025976</td>\n",
       "      <td>0.017037</td>\n",
       "      <td>0.027708</td>\n",
       "      <td>0.054362</td>\n",
       "      <td>0.022298</td>\n",
       "      <td>0.025416</td>\n",
       "      <td>0.028435</td>\n",
       "      <td>0.026551</td>\n",
       "      <td>0.018960</td>\n",
       "      <td>0.023163</td>\n",
       "      <td>0.020295</td>\n",
       "    </tr>\n",
       "    <tr>\n",
       "      <th>LUV</th>\n",
       "      <td>0.035900</td>\n",
       "      <td>0.049402</td>\n",
       "      <td>0.032520</td>\n",
       "      <td>0.037101</td>\n",
       "      <td>0.043251</td>\n",
       "      <td>0.032451</td>\n",
       "      <td>0.047361</td>\n",
       "      <td>0.022298</td>\n",
       "      <td>0.136321</td>\n",
       "      <td>0.045900</td>\n",
       "      <td>0.037628</td>\n",
       "      <td>0.026611</td>\n",
       "      <td>0.036029</td>\n",
       "      <td>0.033235</td>\n",
       "      <td>0.020670</td>\n",
       "    </tr>\n",
       "    <tr>\n",
       "      <th>MA</th>\n",
       "      <td>0.045170</td>\n",
       "      <td>0.058004</td>\n",
       "      <td>0.033693</td>\n",
       "      <td>0.049089</td>\n",
       "      <td>0.063604</td>\n",
       "      <td>0.035388</td>\n",
       "      <td>0.073454</td>\n",
       "      <td>0.025416</td>\n",
       "      <td>0.045900</td>\n",
       "      <td>0.121931</td>\n",
       "      <td>0.049687</td>\n",
       "      <td>0.034340</td>\n",
       "      <td>0.044928</td>\n",
       "      <td>0.044954</td>\n",
       "      <td>0.042093</td>\n",
       "    </tr>\n",
       "    <tr>\n",
       "      <th>MSFT</th>\n",
       "      <td>0.040463</td>\n",
       "      <td>0.072537</td>\n",
       "      <td>0.037334</td>\n",
       "      <td>0.043246</td>\n",
       "      <td>0.041932</td>\n",
       "      <td>0.036888</td>\n",
       "      <td>0.051214</td>\n",
       "      <td>0.028435</td>\n",
       "      <td>0.037628</td>\n",
       "      <td>0.049687</td>\n",
       "      <td>0.117233</td>\n",
       "      <td>0.031805</td>\n",
       "      <td>0.041287</td>\n",
       "      <td>0.034510</td>\n",
       "      <td>0.030141</td>\n",
       "    </tr>\n",
       "    <tr>\n",
       "      <th>PFE</th>\n",
       "      <td>0.026729</td>\n",
       "      <td>0.033782</td>\n",
       "      <td>0.026277</td>\n",
       "      <td>0.030167</td>\n",
       "      <td>0.027720</td>\n",
       "      <td>0.033623</td>\n",
       "      <td>0.033549</td>\n",
       "      <td>0.026551</td>\n",
       "      <td>0.026611</td>\n",
       "      <td>0.034340</td>\n",
       "      <td>0.031805</td>\n",
       "      <td>0.076462</td>\n",
       "      <td>0.020779</td>\n",
       "      <td>0.028681</td>\n",
       "      <td>0.023324</td>\n",
       "    </tr>\n",
       "    <tr>\n",
       "      <th>TSLA</th>\n",
       "      <td>0.037618</td>\n",
       "      <td>0.051145</td>\n",
       "      <td>0.021218</td>\n",
       "      <td>0.038831</td>\n",
       "      <td>0.051453</td>\n",
       "      <td>0.032935</td>\n",
       "      <td>0.041516</td>\n",
       "      <td>0.018960</td>\n",
       "      <td>0.036029</td>\n",
       "      <td>0.044928</td>\n",
       "      <td>0.041287</td>\n",
       "      <td>0.020779</td>\n",
       "      <td>0.299150</td>\n",
       "      <td>0.033009</td>\n",
       "      <td>0.030558</td>\n",
       "    </tr>\n",
       "    <tr>\n",
       "      <th>UNH</th>\n",
       "      <td>0.030807</td>\n",
       "      <td>0.036059</td>\n",
       "      <td>0.028010</td>\n",
       "      <td>0.032666</td>\n",
       "      <td>0.029447</td>\n",
       "      <td>0.035376</td>\n",
       "      <td>0.039271</td>\n",
       "      <td>0.023163</td>\n",
       "      <td>0.033235</td>\n",
       "      <td>0.044954</td>\n",
       "      <td>0.034510</td>\n",
       "      <td>0.028681</td>\n",
       "      <td>0.033009</td>\n",
       "      <td>0.169135</td>\n",
       "      <td>0.022346</td>\n",
       "    </tr>\n",
       "    <tr>\n",
       "      <th>XOM</th>\n",
       "      <td>0.030626</td>\n",
       "      <td>0.028264</td>\n",
       "      <td>0.021413</td>\n",
       "      <td>0.024694</td>\n",
       "      <td>0.025792</td>\n",
       "      <td>0.021805</td>\n",
       "      <td>0.031614</td>\n",
       "      <td>0.020295</td>\n",
       "      <td>0.020670</td>\n",
       "      <td>0.042093</td>\n",
       "      <td>0.030141</td>\n",
       "      <td>0.023324</td>\n",
       "      <td>0.030558</td>\n",
       "      <td>0.022346</td>\n",
       "      <td>0.049813</td>\n",
       "    </tr>\n",
       "  </tbody>\n",
       "</table>\n",
       "</div>"
      ],
      "text/plain": [
       "           ACN      AMZN      COST       DIS         F      GILD       JPM  \\\n",
       "ACN   0.093237  0.045569  0.027716  0.040676  0.043760  0.030402  0.049872   \n",
       "AMZN  0.045569  0.351349  0.048372  0.056606  0.054542  0.062826  0.070434   \n",
       "COST  0.027716  0.048372  0.104963  0.032944  0.031892  0.028353  0.040312   \n",
       "DIS   0.040676  0.056606  0.032944  0.099191  0.039687  0.033977  0.046787   \n",
       "F     0.043760  0.054542  0.031892  0.039687  0.124239  0.030982  0.053439   \n",
       "GILD  0.030402  0.062826  0.028353  0.033977  0.030982  0.248813  0.044629   \n",
       "JPM   0.049872  0.070434  0.040312  0.046787  0.053439  0.044629  0.130776   \n",
       "KO    0.020071  0.020886  0.021527  0.026054  0.025976  0.017037  0.027708   \n",
       "LUV   0.035900  0.049402  0.032520  0.037101  0.043251  0.032451  0.047361   \n",
       "MA    0.045170  0.058004  0.033693  0.049089  0.063604  0.035388  0.073454   \n",
       "MSFT  0.040463  0.072537  0.037334  0.043246  0.041932  0.036888  0.051214   \n",
       "PFE   0.026729  0.033782  0.026277  0.030167  0.027720  0.033623  0.033549   \n",
       "TSLA  0.037618  0.051145  0.021218  0.038831  0.051453  0.032935  0.041516   \n",
       "UNH   0.030807  0.036059  0.028010  0.032666  0.029447  0.035376  0.039271   \n",
       "XOM   0.030626  0.028264  0.021413  0.024694  0.025792  0.021805  0.031614   \n",
       "\n",
       "            KO       LUV        MA      MSFT       PFE      TSLA       UNH  \\\n",
       "ACN   0.020071  0.035900  0.045170  0.040463  0.026729  0.037618  0.030807   \n",
       "AMZN  0.020886  0.049402  0.058004  0.072537  0.033782  0.051145  0.036059   \n",
       "COST  0.021527  0.032520  0.033693  0.037334  0.026277  0.021218  0.028010   \n",
       "DIS   0.026054  0.037101  0.049089  0.043246  0.030167  0.038831  0.032666   \n",
       "F     0.025976  0.043251  0.063604  0.041932  0.027720  0.051453  0.029447   \n",
       "GILD  0.017037  0.032451  0.035388  0.036888  0.033623  0.032935  0.035376   \n",
       "JPM   0.027708  0.047361  0.073454  0.051214  0.033549  0.041516  0.039271   \n",
       "KO    0.054362  0.022298  0.025416  0.028435  0.026551  0.018960  0.023163   \n",
       "LUV   0.022298  0.136321  0.045900  0.037628  0.026611  0.036029  0.033235   \n",
       "MA    0.025416  0.045900  0.121931  0.049687  0.034340  0.044928  0.044954   \n",
       "MSFT  0.028435  0.037628  0.049687  0.117233  0.031805  0.041287  0.034510   \n",
       "PFE   0.026551  0.026611  0.034340  0.031805  0.076462  0.020779  0.028681   \n",
       "TSLA  0.018960  0.036029  0.044928  0.041287  0.020779  0.299150  0.033009   \n",
       "UNH   0.023163  0.033235  0.044954  0.034510  0.028681  0.033009  0.169135   \n",
       "XOM   0.020295  0.020670  0.042093  0.030141  0.023324  0.030558  0.022346   \n",
       "\n",
       "           XOM  \n",
       "ACN   0.030626  \n",
       "AMZN  0.028264  \n",
       "COST  0.021413  \n",
       "DIS   0.024694  \n",
       "F     0.025792  \n",
       "GILD  0.021805  \n",
       "JPM   0.031614  \n",
       "KO    0.020295  \n",
       "LUV   0.020670  \n",
       "MA    0.042093  \n",
       "MSFT  0.030141  \n",
       "PFE   0.023324  \n",
       "TSLA  0.030558  \n",
       "UNH   0.022346  \n",
       "XOM   0.049813  "
      ]
     },
     "execution_count": 7,
     "metadata": {},
     "output_type": "execute_result"
    }
   ],
   "source": [
    "from pypfopt import risk_models\n",
    "from pypfopt import Plotting\n",
    "\n",
    "sample_cov = risk_models.sample_cov(prices, frequency=252)\n",
    "sample_cov"
   ]
  },
  {
   "cell_type": "code",
   "execution_count": 8,
   "metadata": {},
   "outputs": [
    {
     "data": {
      "image/png": "[encoded data removed]",
      "text/plain": [
       "<Figure size 432x288 with 2 Axes>"
      ]
     },
     "metadata": {
      "needs_background": "light"
     },
     "output_type": "display_data"
    }
   ],
   "source": [
    "Plotting.plot_covariance(sample_cov);"
   ]
  },
  {
   "cell_type": "markdown",
   "metadata": {},
   "source": [
    "For reasons discussed in the docs, the sample covariance matrix should not be your default choice. I think a better option is Ledoit-Wolf shrinkage, which reduces the extreme values in the covariance matrix. In the image below, we can see that there are fewer bright spots outside the diagonal:"
   ]
  },
  {
   "cell_type": "code",
   "execution_count": 9,
   "metadata": {},
   "outputs": [
    {
     "data": {
      "image/png": "[encoded data removed]",
      "text/plain": [
       "<Figure size 432x288 with 2 Axes>"
      ]
     },
     "metadata": {
      "needs_background": "light"
     },
     "output_type": "display_data"
    }
   ],
   "source": [
    "S = risk_models.CovarianceShrinkage(prices).ledoit_wolf()\n",
    "Plotting.plot_covariance(S);"
   ]
  },
  {
   "cell_type": "markdown",
   "metadata": {},
   "source": [
    "## Return estimation\n",
    "\n",
    "As discussed in the docs, it is often a bad idea to provide returns using a simple estimate like the mean of past returns. Generally, unless you have a proprietary method for estimating returns, I would skip this altogether and just find the `min_volatility()` portfolio or use `HRP`. \n",
    "\n",
    "However, if you insist, I suggest you use James-Stein shrinkage or CAPM returns, which aim to be slightly more stable than the default mean historical return. Please see the notebook `1-RiskReturnModels.ipynb` for more."
   ]
  },
  {
   "cell_type": "code",
   "execution_count": 10,
   "metadata": {},
   "outputs": [],
   "source": [
    "from pypfopt import expected_returns"
   ]
  },
  {
   "cell_type": "code",
   "execution_count": 11,
   "metadata": {},
   "outputs": [
    {
     "data": {
      "text/plain": [
       "ACN     0.183741\n",
       "AMZN    0.320742\n",
       "COST    0.173676\n",
       "DIS     0.195162\n",
       "F       0.194314\n",
       "GILD    0.230201\n",
       "JPM     0.221041\n",
       "KO      0.130592\n",
       "LUV     0.195856\n",
       "MA      0.231404\n",
       "MSFT    0.210828\n",
       "PFE     0.158542\n",
       "TSLA    0.236669\n",
       "UNH     0.195999\n",
       "XOM     0.122601\n",
       "Name: mkt, dtype: float64"
      ]
     },
     "execution_count": 11,
     "metadata": {},
     "output_type": "execute_result"
    }
   ],
   "source": [
    "mu = expected_returns.capm_return(prices)\n",
    "mu"
   ]
  },
  {
   "cell_type": "code",
   "execution_count": 12,
   "metadata": {},
   "outputs": [
    {
     "data": {
      "image/png": "[encoded data removed]",
      "text/plain": [
       "<Figure size 720x432 with 1 Axes>"
      ]
     },
     "metadata": {
      "needs_background": "light"
     },
     "output_type": "display_data"
    }
   ],
   "source": [
    "mu.plot.barh(figsize=(10,6));"
   ]
  },
  {
   "cell_type": "markdown",
   "metadata": {},
   "source": [
    "## Long/short min variance\n",
    "\n",
    "In this section, we construct a long/short portfolio with the objective of minimising variance. There is a good deal of research that demonstrates how global-minimum variance (GMV) portfolios outperform mean-variance optimised portfolios."
   ]
  },
  {
   "cell_type": "code",
   "execution_count": 13,
   "metadata": {},
   "outputs": [],
   "source": [
    "from pypfopt import EfficientFrontier"
   ]
  },
  {
   "cell_type": "code",
   "execution_count": 14,
   "metadata": {},
   "outputs": [
    {
     "name": "stderr",
     "output_type": "stream",
     "text": [
      "/usr/local/lib/python3.7/site-packages/pypfopt/efficient_frontier.py:98: UserWarning: No expected returns provided. You may only use ef.min_volatility()\n",
      "  \"No expected returns provided. You may only use ef.min_volatility()\"\n"
     ]
    },
    {
     "data": {
      "text/plain": [
       "{'ACN': 0.22883,\n",
       " 'AMZN': 0.00724,\n",
       " 'COST': 0.09044,\n",
       " 'DIS': -0.0157,\n",
       " 'F': -0.0181,\n",
       " 'GILD': 0.03821,\n",
       " 'JPM': -0.0509,\n",
       " 'KO': 0.11818,\n",
       " 'LUV': 0.02707,\n",
       " 'MA': 0.24155,\n",
       " 'MSFT': 0.00463,\n",
       " 'PFE': 0.05671,\n",
       " 'TSLA': 0.17089,\n",
       " 'UNH': 0.0271,\n",
       " 'XOM': 0.07384}"
      ]
     },
     "execution_count": 14,
     "metadata": {},
     "output_type": "execute_result"
    }
   ],
   "source": [
    "S = risk_models.CovarianceShrinkage(prices).ledoit_wolf()\n",
    "\n",
    "# You don't have to provide expected returns in this case\n",
    "ef = EfficientFrontier(None, S, weight_bounds=(None, None))\n",
    "ef.min_volatility()\n",
    "weights = ef.clean_weights()\n",
    "weights"
   ]
  },
  {
   "cell_type": "code",
   "execution_count": 15,
   "metadata": {},
   "outputs": [
    {
     "data": {
      "image/png": "[encoded data removed]",
      "text/plain": [
       "<Figure size 432x288 with 1 Axes>"
      ]
     },
     "metadata": {
      "needs_background": "light"
     },
     "output_type": "display_data"
    }
   ],
   "source": [
    "pd.Series(weights).plot.barh();"
   ]
  },
  {
   "cell_type": "markdown",
   "metadata": {},
   "source": [
    "We can get a quick indication of the portfolio performance as follows. Note that this is an in sample estimate and may have very little resemblance to how the portfolio actually performs!"
   ]
  },
  {
   "cell_type": "code",
   "execution_count": 16,
   "metadata": {},
   "outputs": [
    {
     "name": "stdout",
     "output_type": "stream",
     "text": [
      "Annual volatility: 11.5%\n"
     ]
    }
   ],
   "source": [
    "ef.portfolio_performance(verbose=True);"
   ]
  },
  {
   "cell_type": "markdown",
   "metadata": {},
   "source": [
    "Let's say we were happy with this portfolio and wanted to actually go out and buy the shares.  To do this, we would need to construct a **discrete allocation** (unless your broker supports fractional shares!)\n",
    "\n",
    "If we had \\$20,0000 to invest and would like our portfolio to be 130/30 long/short, we can construct the actual allocation as follows:"
   ]
  },
  {
   "cell_type": "code",
   "execution_count": 17,
   "metadata": {},
   "outputs": [
    {
     "name": "stdout",
     "output_type": "stream",
     "text": [
      "Discrete allocation performed with $23.23 leftover\n"
     ]
    },
    {
     "data": {
      "text/plain": [
       "{'ACN': 24.0,\n",
       " 'COST': 5.0,\n",
       " 'GILD': 9.0,\n",
       " 'KO': 47.0,\n",
       " 'LUV': 17.0,\n",
       " 'MA': 17.0,\n",
       " 'MSFT': 1.0,\n",
       " 'PFE': 28.0,\n",
       " 'TSLA': 4.0,\n",
       " 'UNH': 2.0,\n",
       " 'XOM': 31.0,\n",
       " 'DIS': -10.0,\n",
       " 'F': -242.0,\n",
       " 'JPM': -38.0}"
      ]
     },
     "execution_count": 17,
     "metadata": {},
     "output_type": "execute_result"
    }
   ],
   "source": [
    "from pypfopt import DiscreteAllocation\n",
    "\n",
    "latest_prices = prices.iloc[-1]  # prices as of the day you are allocating\n",
    "da = DiscreteAllocation(weights, latest_prices, total_portfolio_value=20000, short_ratio=0.3)\n",
    "alloc, leftover = da.lp_portfolio()\n",
    "print(f\"Discrete allocation performed with ${leftover:.2f} leftover\")\n",
    "alloc"
   ]
  },
  {
   "cell_type": "markdown",
   "metadata": {},
   "source": [
    "## Max Sharpe with sector constraints\n",
    "\n",
    "If you have your own model for returns (or have read the warnings and want to proceed anyways), you may consider maximising the Sharpe ratio. This theoretically gives the optimal portfolio in terms of risks-returns.\n",
    "\n",
    "In this section, we construct a long-only max-sharpe portfolio, but also incorporate sector constraints. Sector constraints require three things. A `sector_mapper`, your `sector_lower` bounds, and your `sector_upper` bounds."
   ]
  },
  {
   "cell_type": "code",
   "execution_count": 18,
   "metadata": {},
   "outputs": [],
   "source": [
    "sector_mapper = {\n",
    "    \"MSFT\": \"Tech\",\n",
    "    \"AMZN\": \"Consumer Discretionary\",\n",
    "    \"KO\": \"Consumer Staples\",\n",
    "    \"MA\": \"Financial Services\",\n",
    "    \"COST\": \"Consumer Staples\",\n",
    "    \"LUV\": \"Aerospace\",\n",
    "    \"XOM\": \"Energy\",\n",
    "    \"PFE\": \"Healthcare\",\n",
    "    \"JPM\": \"Financial Services\",\n",
    "    \"UNH\": \"Healthcare\",\n",
    "    \"ACN\": \"Misc\",\n",
    "    \"DIS\": \"Media\",\n",
    "    \"GILD\": \"Healthcare\",\n",
    "    \"F\": \"Auto\",\n",
    "    \"TSLA\": \"Auto\"\n",
    "}\n",
    "\n",
    "sector_lower = {\n",
    "    \"Consumer Staples\": 0.1, # at least 10% to staples\n",
    "    \"Tech\": 0.05 # at least 5% to tech\n",
    "    # For all other sectors, it will be assumed there is no lower bound\n",
    "}\n",
    "\n",
    "sector_upper = {\n",
    "    \"Tech\": 0.2,\n",
    "    \"Aerospace\":0.1,\n",
    "    \"Energy\": 0.1,\n",
    "    \"Auto\":0.15\n",
    "}"
   ]
  },
  {
   "cell_type": "markdown",
   "metadata": {},
   "source": [
    "We then set up the optimiser and add our constraints. We can use `ef.add_objective()` to add other constraints. For example, let's say that in addition to the above sector constraints, I specifically want:\n",
    "\n",
    "- 10% of the portfolio in AMZN\n",
    "- Less than 5% of my portfolio in TSLA"
   ]
  },
  {
   "cell_type": "code",
   "execution_count": 19,
   "metadata": {},
   "outputs": [],
   "source": [
    "mu = expected_returns.capm_return(prices)\n",
    "S = risk_models.CovarianceShrinkage(prices).ledoit_wolf()\n",
    "\n",
    "ef = EfficientFrontier(mu, S)  # weight_bounds automatically set to (0, 1)\n",
    "ef.add_sector_constraints(sector_mapper, sector_lower, sector_upper)\n",
    "\n",
    "amzn_index = ef.tickers.index(\"AMZN\")\n",
    "ef.add_constraint(lambda w: w[amzn_index] == 0.10)\n",
    "\n",
    "tsla_index = ef.tickers.index(\"TSLA\")\n",
    "ef.add_constraint(lambda w: w[tsla_index] <= 0.05)\n",
    "\n",
    "ef.add_constraint(lambda w: w[10] >= 0.05)\n",
    "\n",
    "ef.max_sharpe()\n",
    "# ef.weights\n",
    "weights = ef.clean_weights()\n",
    "# weights"
   ]
  },
  {
   "cell_type": "code",
   "execution_count": 20,
   "metadata": {},
   "outputs": [
    {
     "data": {
      "text/plain": [
       "{'ACN': 0.17159,\n",
       " 'AMZN': 0.1,\n",
       " 'COST': 0.05422,\n",
       " 'DIS': 0.0,\n",
       " 'F': 0.0,\n",
       " 'GILD': 0.05808,\n",
       " 'JPM': 0.0,\n",
       " 'KO': 0.04578,\n",
       " 'LUV': 0.01857,\n",
       " 'MA': 0.40488,\n",
       " 'MSFT': 0.05,\n",
       " 'PFE': 0.01655,\n",
       " 'TSLA': 0.05,\n",
       " 'UNH': 0.03034,\n",
       " 'XOM': 0.0}"
      ]
     },
     "execution_count": 20,
     "metadata": {},
     "output_type": "execute_result"
    }
   ],
   "source": [
    "weights"
   ]
  },
  {
   "cell_type": "markdown",
   "metadata": {},
   "source": [
    "We can immediately see that our explicit constraints were satisfied, and can check all the sector constraints as follows:\n"
   ]
  },
  {
   "cell_type": "code",
   "execution_count": 21,
   "metadata": {},
   "outputs": [
    {
     "name": "stdout",
     "output_type": "stream",
     "text": [
      "Tech: 0.050\n",
      "Auto: 0.050\n",
      "Consumer Discretionary: 0.100\n",
      "Consumer Staples: 0.100\n",
      "Financial Services: 0.405\n",
      "Misc: 0.172\n",
      "Media: 0.000\n",
      "Aerospace: 0.019\n",
      "Healthcare: 0.105\n",
      "Energy: 0.000\n"
     ]
    }
   ],
   "source": [
    "# O(N^2) loop not a good idea in a coding interview :)\n",
    "for sector in set(sector_mapper.values()):\n",
    "    total_weight = 0\n",
    "    for t,w in weights.items():\n",
    "        if sector_mapper[t] == sector:\n",
    "            total_weight += w\n",
    "    print(f\"{sector}: {total_weight:.3f}\")"
   ]
  },
  {
   "cell_type": "markdown",
   "metadata": {},
   "source": [
    "## Maximise return for a given risk, with L2 regularisation\n",
    "\n",
    "Let's imagine that we've put a lot of thought into our risk tolerance, and have decided that we can't accept anything more than 15% volatility. We can use PyPortfolioOpt to construct a portfolio that maximises return for a given risk (with the same caveats about expected returns)."
   ]
  },
  {
   "cell_type": "code",
   "execution_count": 22,
   "metadata": {},
   "outputs": [
    {
     "data": {
      "text/plain": [
       "{'ACN': 0.0,\n",
       " 'AMZN': 0.2133,\n",
       " 'COST': 0.1,\n",
       " 'DIS': 0.0,\n",
       " 'F': 0.0,\n",
       " 'GILD': 0.05324,\n",
       " 'JPM': 0.0,\n",
       " 'KO': 0.0,\n",
       " 'LUV': 0.0,\n",
       " 'MA': 0.43346,\n",
       " 'MSFT': 0.05,\n",
       " 'PFE': 0.0,\n",
       " 'TSLA': 0.15,\n",
       " 'UNH': 0.0,\n",
       " 'XOM': 0.0}"
      ]
     },
     "execution_count": 22,
     "metadata": {},
     "output_type": "execute_result"
    }
   ],
   "source": [
    "ef = EfficientFrontier(mu, S)\n",
    "ef.add_sector_constraints(sector_mapper, sector_lower, sector_upper)\n",
    "ef.efficient_risk(target_volatility=0.15)\n",
    "weights = ef.clean_weights()\n",
    "weights"
   ]
  },
  {
   "cell_type": "code",
   "execution_count": 23,
   "metadata": {},
   "outputs": [
    {
     "name": "stdout",
     "output_type": "stream",
     "text": [
      "9/15 tickers have zero weight\n"
     ]
    }
   ],
   "source": [
    "num_small = len([k for k in weights if weights[k] <= 1e-4])\n",
    "print(f\"{num_small}/{len(ef.tickers)} tickers have zero weight\")"
   ]
  },
  {
   "cell_type": "code",
   "execution_count": 24,
   "metadata": {},
   "outputs": [
    {
     "name": "stdout",
     "output_type": "stream",
     "text": [
      "Expected annual return: 24.4%\n",
      "Annual volatility: 15.0%\n",
      "Sharpe Ratio: 1.50\n"
     ]
    }
   ],
   "source": [
    "ef.portfolio_performance(verbose=True);"
   ]
  },
  {
   "cell_type": "markdown",
   "metadata": {},
   "source": [
    "While this portfolio seems like it meets our objectives, we might be worried by the fact that a lot of the tickers have been assigned zero weight. In effect, the optimiser is \"overfitting\" to the data you have provided -- you are much more likely to get better results by enforcing some level of diversification. One way of doing this is to use **L2 regularisation** – essentially, adding a penalty on the number of near-zero weights."
   ]
  },
  {
   "cell_type": "code",
   "execution_count": 25,
   "metadata": {},
   "outputs": [
    {
     "data": {
      "text/plain": [
       "{'ACN': 0.04731,\n",
       " 'AMZN': 0.21883,\n",
       " 'COST': 0.09128,\n",
       " 'DIS': 0.01123,\n",
       " 'F': 0.0,\n",
       " 'GILD': 0.08818,\n",
       " 'JPM': 0.0441,\n",
       " 'KO': 0.00872,\n",
       " 'LUV': 0.0227,\n",
       " 'MA': 0.23222,\n",
       " 'MSFT': 0.05,\n",
       " 'PFE': 0.0,\n",
       " 'TSLA': 0.15,\n",
       " 'UNH': 0.03544,\n",
       " 'XOM': 0.0}"
      ]
     },
     "execution_count": 25,
     "metadata": {},
     "output_type": "execute_result"
    }
   ],
   "source": [
    "from pypfopt import objective_functions\n",
    "\n",
    "# You must always create a new efficient frontier object\n",
    "ef = EfficientFrontier(mu, S)\n",
    "ef.add_sector_constraints(sector_mapper, sector_lower, sector_upper)\n",
    "ef.add_objective(objective_functions.L2_reg, gamma=0.1)  # gamme is the tuning parameter\n",
    "ef.efficient_risk(0.15)\n",
    "weights = ef.clean_weights()\n",
    "weights"
   ]
  },
  {
   "cell_type": "code",
   "execution_count": 26,
   "metadata": {},
   "outputs": [
    {
     "name": "stdout",
     "output_type": "stream",
     "text": [
      "3/15 tickers have zero weight\n"
     ]
    }
   ],
   "source": [
    "num_small = len([k for k in weights if weights[k] <= 1e-4])\n",
    "print(f\"{num_small}/{len(ef.tickers)} tickers have zero weight\")"
   ]
  },
  {
   "cell_type": "markdown",
   "metadata": {},
   "source": [
    "We can tune the value of gamma to choose the number of nonzero tickers. Larger gamma pulls portfolio weights towards an equal allocation."
   ]
  },
  {
   "cell_type": "code",
   "execution_count": 27,
   "metadata": {},
   "outputs": [
    {
     "data": {
      "text/plain": [
       "{'ACN': 0.05737,\n",
       " 'AMZN': 0.12587,\n",
       " 'COST': 0.06077,\n",
       " 'DIS': 0.06308,\n",
       " 'F': 0.06266,\n",
       " 'GILD': 0.0806,\n",
       " 'JPM': 0.07602,\n",
       " 'KO': 0.03923,\n",
       " 'LUV': 0.06342,\n",
       " 'MA': 0.0812,\n",
       " 'MSFT': 0.07091,\n",
       " 'PFE': 0.04477,\n",
       " 'TSLA': 0.08383,\n",
       " 'UNH': 0.0635,\n",
       " 'XOM': 0.0268}"
      ]
     },
     "execution_count": 27,
     "metadata": {},
     "output_type": "execute_result"
    }
   ],
   "source": [
    "ef = EfficientFrontier(mu, S)\n",
    "ef.add_sector_constraints(sector_mapper, sector_lower, sector_upper)\n",
    "ef.add_objective(objective_functions.L2_reg, gamma=1)  # gamme is the tuning parameter\n",
    "ef.efficient_risk(0.15)\n",
    "weights = ef.clean_weights()\n",
    "weights"
   ]
  },
  {
   "cell_type": "code",
   "execution_count": 28,
   "metadata": {},
   "outputs": [
    {
     "name": "stdout",
     "output_type": "stream",
     "text": [
      "Expected annual return: 21.5%\n",
      "Annual volatility: 14.7%\n",
      "Sharpe Ratio: 1.33\n"
     ]
    }
   ],
   "source": [
    "ef.portfolio_performance(verbose=True);"
   ]
  },
  {
   "cell_type": "markdown",
   "metadata": {},
   "source": [
    "The resulting portfolio still has a volatility of less than our 15% limit. It's in-sample Sharpe ratio has gone down, but this portfolio is a lot more robust for actual investment."
   ]
  },
  {
   "cell_type": "markdown",
   "metadata": {},
   "source": [
    "## Minimise risk for a given return, market-neutral\n",
    "\n",
    "We may instead be in the situation where we have a certain required rate of return (maybe we are a pension fund that needs 7% return a year), but would like to minimise risk. Additionally, suppose we would like our portfolio to be market neutral, in the sense that it is equally exposed to the long and short sides.  "
   ]
  },
  {
   "cell_type": "code",
   "execution_count": 29,
   "metadata": {},
   "outputs": [
    {
     "data": {
      "text/plain": [
       "{'ACN': -0.03872,\n",
       " 'AMZN': 0.2571,\n",
       " 'COST': -0.05991,\n",
       " 'DIS': -0.00686,\n",
       " 'F': -0.01044,\n",
       " 'GILD': 0.06368,\n",
       " 'JPM': 0.04842,\n",
       " 'KO': -0.15416,\n",
       " 'LUV': -0.00832,\n",
       " 'MA': 0.07353,\n",
       " 'MSFT': 0.02434,\n",
       " 'PFE': -0.09054,\n",
       " 'TSLA': 0.08397,\n",
       " 'UNH': -0.00704,\n",
       " 'XOM': -0.17504}"
      ]
     },
     "execution_count": 29,
     "metadata": {},
     "output_type": "execute_result"
    }
   ],
   "source": [
    "# Must have no weight bounds to allow shorts\n",
    "ef = EfficientFrontier(mu, S, weight_bounds=(None, None))\n",
    "ef.add_objective(objective_functions.L2_reg)\n",
    "ef.efficient_return(target_return=0.07, market_neutral=True)\n",
    "weights = ef.clean_weights()\n",
    "weights"
   ]
  },
  {
   "cell_type": "code",
   "execution_count": 30,
   "metadata": {},
   "outputs": [
    {
     "name": "stdout",
     "output_type": "stream",
     "text": [
      "Expected annual return: 7.0%\n",
      "Annual volatility: 12.0%\n",
      "Sharpe Ratio: 0.42\n"
     ]
    }
   ],
   "source": [
    "ef.portfolio_performance(verbose=True);"
   ]
  },
  {
   "cell_type": "code",
   "execution_count": 31,
   "metadata": {},
   "outputs": [
    {
     "data": {
      "image/png": "[encoded data removed]",
      "text/plain": [
       "<Figure size 720x432 with 1 Axes>"
      ]
     },
     "metadata": {
      "needs_background": "light"
     },
     "output_type": "display_data"
    }
   ],
   "source": [
    "pd.Series(weights).plot.barh(figsize=(10,6));"
   ]
  },
  {
   "cell_type": "code",
   "execution_count": 32,
   "metadata": {},
   "outputs": [
    {
     "name": "stdout",
     "output_type": "stream",
     "text": [
      "Net weight: 0.00\n"
     ]
    }
   ],
   "source": [
    "print(f\"Net weight: {sum(weights.values()):.2f}\")"
   ]
  },
  {
   "cell_type": "code",
   "execution_count": null,
   "metadata": {},
   "outputs": [],
   "source": []
  }
 ],
 "metadata": {
  "kernelspec": {
   "display_name": "Python 3",
   "language": "python",
   "name": "python3"
  },
  "language_info": {
   "codemirror_mode": {
    "name": "ipython",
    "version": 3
   },
   "file_extension": ".py",
   "mimetype": "text/x-python",
   "name": "python",
   "nbconvert_exporter": "python",
   "pygments_lexer": "ipython3",
   "version": "3.7.5"
  }
 },
 "nbformat": 4,
 "nbformat_minor": 4
}
