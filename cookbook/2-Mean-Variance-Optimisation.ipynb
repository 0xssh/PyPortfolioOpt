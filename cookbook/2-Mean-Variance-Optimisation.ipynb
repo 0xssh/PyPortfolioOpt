{
 "cells": [
  {
   "cell_type": "markdown",
   "metadata": {},
   "source": [
    "# Mean-variance optimisation\n",
    "\n",
    "In this cookbook recipe, we work on several examples demonstrating PyPortfolioOpt's mean-variance capabilities. I will discuss what I think should be your \"default\" options, based on my experience in optimising portfolios.\n",
    "\n",
    "To start, you need a list of tickers. Some people just provide the whole universe of stocks, but I don't think this is a good idea - portfolio optimisation is quite different from asset selection. I would suggest anywhere from 10-50 stocks as a starting point.\n",
    "\n",
    "Some of the things we cover:\n",
    "\n",
    "- Downloading data and getting it into PyPortfolioOpt\n",
    "- Calculating and visualising the covariance matrix\n",
    "- Optimising a long/short portfolio to minimise total variance\n",
    "- Optimising a portfolio to maximise the Sharpe ratio, subject to sector constraints\n",
    "- Optimising a portfolio to maximise return for a given risk, subject to sector constraints, with an L2 regularisation objective\n",
    "- Optimising a market-neutral portfolio to minimise risk for a given level of return\n",
    "- Optimising along the mean-semivariance frontier\n",
    "- Plotting the efficient frontier (either simple or constrained)\n",
    "\n",
    "Please consult the [docs](https://pyportfolioopt.readthedocs.io/) for more info.\n",
    "\n",
    "## Downloading data\n",
    "\n",
    "To download data, we will use `yfinance`, an excellent library that provides free price data from Yahoo Finance, no API key needed."
   ]
  },
  {
   "cell_type": "code",
   "execution_count": 1,
   "metadata": {},
   "outputs": [],
   "source": [
    "import yfinance as yf\n",
    "import matplotlib.pyplot as plt\n",
    "import pandas as pd\n",
    "import numpy as np"
   ]
  },
  {
   "cell_type": "code",
   "execution_count": 2,
   "metadata": {},
   "outputs": [],
   "source": [
    "tickers = [\"MSFT\", \"AMZN\", \"KO\", \"MA\", \"COST\", \n",
    "           \"LUV\", \"XOM\", \"PFE\", \"JPM\", \"UNH\", \n",
    "           \"ACN\", \"DIS\", \"GILD\", \"F\", \"TSLA\"] "
   ]
  },
  {
   "cell_type": "code",
   "execution_count": 3,
   "metadata": {},
   "outputs": [
    {
     "name": "stdout",
     "output_type": "stream",
     "text": [
      "[*********************100%***********************]  15 of 15 completed\n"
     ]
    }
   ],
   "source": [
    "ohlc = yf.download(tickers, period=\"max\")"
   ]
  },
  {
   "cell_type": "code",
   "execution_count": 4,
   "metadata": {},
   "outputs": [
    {
     "data": {
      "text/html": [
       "<div>\n",
       "<style scoped>\n",
       "    .dataframe tbody tr th:only-of-type {\n",
       "        vertical-align: middle;\n",
       "    }\n",
       "\n",
       "    .dataframe tbody tr th {\n",
       "        vertical-align: top;\n",
       "    }\n",
       "\n",
       "    .dataframe thead th {\n",
       "        text-align: right;\n",
       "    }\n",
       "</style>\n",
       "<table border=\"1\" class=\"dataframe\">\n",
       "  <thead>\n",
       "    <tr style=\"text-align: right;\">\n",
       "      <th></th>\n",
       "      <th>ACN</th>\n",
       "      <th>AMZN</th>\n",
       "      <th>COST</th>\n",
       "      <th>DIS</th>\n",
       "      <th>F</th>\n",
       "      <th>GILD</th>\n",
       "      <th>JPM</th>\n",
       "      <th>KO</th>\n",
       "      <th>LUV</th>\n",
       "      <th>MA</th>\n",
       "      <th>MSFT</th>\n",
       "      <th>PFE</th>\n",
       "      <th>TSLA</th>\n",
       "      <th>UNH</th>\n",
       "      <th>XOM</th>\n",
       "    </tr>\n",
       "    <tr>\n",
       "      <th>Date</th>\n",
       "      <th></th>\n",
       "      <th></th>\n",
       "      <th></th>\n",
       "      <th></th>\n",
       "      <th></th>\n",
       "      <th></th>\n",
       "      <th></th>\n",
       "      <th></th>\n",
       "      <th></th>\n",
       "      <th></th>\n",
       "      <th></th>\n",
       "      <th></th>\n",
       "      <th></th>\n",
       "      <th></th>\n",
       "      <th></th>\n",
       "    </tr>\n",
       "  </thead>\n",
       "  <tbody>\n",
       "    <tr>\n",
       "      <th>2021-01-22</th>\n",
       "      <td>254.770004</td>\n",
       "      <td>3292.229980</td>\n",
       "      <td>362.299988</td>\n",
       "      <td>172.779999</td>\n",
       "      <td>11.52</td>\n",
       "      <td>66.940002</td>\n",
       "      <td>133.789993</td>\n",
       "      <td>48.490002</td>\n",
       "      <td>47.389999</td>\n",
       "      <td>328.989990</td>\n",
       "      <td>225.949997</td>\n",
       "      <td>36.549999</td>\n",
       "      <td>846.640015</td>\n",
       "      <td>347.549988</td>\n",
       "      <td>47.430000</td>\n",
       "    </tr>\n",
       "    <tr>\n",
       "      <th>2021-01-25</th>\n",
       "      <td>252.039993</td>\n",
       "      <td>3294.000000</td>\n",
       "      <td>361.880005</td>\n",
       "      <td>171.889999</td>\n",
       "      <td>11.29</td>\n",
       "      <td>68.160004</td>\n",
       "      <td>132.119995</td>\n",
       "      <td>48.779999</td>\n",
       "      <td>45.619999</td>\n",
       "      <td>329.190002</td>\n",
       "      <td>229.529999</td>\n",
       "      <td>37.279999</td>\n",
       "      <td>880.799988</td>\n",
       "      <td>347.809998</td>\n",
       "      <td>46.900002</td>\n",
       "    </tr>\n",
       "    <tr>\n",
       "      <th>2021-01-26</th>\n",
       "      <td>252.990005</td>\n",
       "      <td>3326.129883</td>\n",
       "      <td>364.980011</td>\n",
       "      <td>169.559998</td>\n",
       "      <td>11.19</td>\n",
       "      <td>66.699997</td>\n",
       "      <td>131.580002</td>\n",
       "      <td>49.290001</td>\n",
       "      <td>45.810001</td>\n",
       "      <td>327.700012</td>\n",
       "      <td>232.330002</td>\n",
       "      <td>37.310001</td>\n",
       "      <td>883.090027</td>\n",
       "      <td>343.109985</td>\n",
       "      <td>45.869999</td>\n",
       "    </tr>\n",
       "    <tr>\n",
       "      <th>2021-01-27</th>\n",
       "      <td>246.100006</td>\n",
       "      <td>3232.580078</td>\n",
       "      <td>356.390015</td>\n",
       "      <td>163.029999</td>\n",
       "      <td>10.79</td>\n",
       "      <td>65.480003</td>\n",
       "      <td>127.860001</td>\n",
       "      <td>48.529999</td>\n",
       "      <td>44.150002</td>\n",
       "      <td>315.489990</td>\n",
       "      <td>232.899994</td>\n",
       "      <td>36.240002</td>\n",
       "      <td>864.159973</td>\n",
       "      <td>332.989990</td>\n",
       "      <td>45.349998</td>\n",
       "    </tr>\n",
       "    <tr>\n",
       "      <th>2021-01-28</th>\n",
       "      <td>249.339996</td>\n",
       "      <td>3237.620117</td>\n",
       "      <td>357.059998</td>\n",
       "      <td>171.880005</td>\n",
       "      <td>10.72</td>\n",
       "      <td>64.680000</td>\n",
       "      <td>130.110001</td>\n",
       "      <td>49.150002</td>\n",
       "      <td>44.599998</td>\n",
       "      <td>324.279999</td>\n",
       "      <td>238.929993</td>\n",
       "      <td>35.860001</td>\n",
       "      <td>835.429993</td>\n",
       "      <td>338.149994</td>\n",
       "      <td>46.060001</td>\n",
       "    </tr>\n",
       "  </tbody>\n",
       "</table>\n",
       "</div>"
      ],
      "text/plain": [
       "                   ACN         AMZN        COST         DIS      F       GILD  \\\n",
       "Date                                                                            \n",
       "2021-01-22  254.770004  3292.229980  362.299988  172.779999  11.52  66.940002   \n",
       "2021-01-25  252.039993  3294.000000  361.880005  171.889999  11.29  68.160004   \n",
       "2021-01-26  252.990005  3326.129883  364.980011  169.559998  11.19  66.699997   \n",
       "2021-01-27  246.100006  3232.580078  356.390015  163.029999  10.79  65.480003   \n",
       "2021-01-28  249.339996  3237.620117  357.059998  171.880005  10.72  64.680000   \n",
       "\n",
       "                   JPM         KO        LUV          MA        MSFT  \\\n",
       "Date                                                                   \n",
       "2021-01-22  133.789993  48.490002  47.389999  328.989990  225.949997   \n",
       "2021-01-25  132.119995  48.779999  45.619999  329.190002  229.529999   \n",
       "2021-01-26  131.580002  49.290001  45.810001  327.700012  232.330002   \n",
       "2021-01-27  127.860001  48.529999  44.150002  315.489990  232.899994   \n",
       "2021-01-28  130.110001  49.150002  44.599998  324.279999  238.929993   \n",
       "\n",
       "                  PFE        TSLA         UNH        XOM  \n",
       "Date                                                      \n",
       "2021-01-22  36.549999  846.640015  347.549988  47.430000  \n",
       "2021-01-25  37.279999  880.799988  347.809998  46.900002  \n",
       "2021-01-26  37.310001  883.090027  343.109985  45.869999  \n",
       "2021-01-27  36.240002  864.159973  332.989990  45.349998  \n",
       "2021-01-28  35.860001  835.429993  338.149994  46.060001  "
      ]
     },
     "execution_count": 4,
     "metadata": {},
     "output_type": "execute_result"
    }
   ],
   "source": [
    "prices = ohlc[\"Adj Close\"].dropna(how=\"all\")\n",
    "prices.tail()"
   ]
  },
  {
   "cell_type": "code",
   "execution_count": 5,
   "metadata": {},
   "outputs": [
    {
     "data": {
      "image/png": "[encoded data removed]",
      "text/plain": [
       "<Figure size 1080x720 with 1 Axes>"
      ]
     },
     "metadata": {
      "needs_background": "light"
     },
     "output_type": "display_data"
    }
   ],
   "source": [
    "prices[prices.index >= \"2008-01-01\"].plot(figsize=(15,10));"
   ]
  },
  {
   "cell_type": "markdown",
   "metadata": {},
   "source": [
    "## Calculating the covariance matrix"
   ]
  },
  {
   "cell_type": "code",
   "execution_count": 6,
   "metadata": {},
   "outputs": [
    {
     "data": {
      "text/plain": [
       "'1.3.1'"
      ]
     },
     "execution_count": 6,
     "metadata": {},
     "output_type": "execute_result"
    }
   ],
   "source": [
    "import pypfopt\n",
    "pypfopt.__version__"
   ]
  },
  {
   "cell_type": "code",
   "execution_count": 7,
   "metadata": {},
   "outputs": [
    {
     "data": {
      "text/html": [
       "<div>\n",
       "<style scoped>\n",
       "    .dataframe tbody tr th:only-of-type {\n",
       "        vertical-align: middle;\n",
       "    }\n",
       "\n",
       "    .dataframe tbody tr th {\n",
       "        vertical-align: top;\n",
       "    }\n",
       "\n",
       "    .dataframe thead th {\n",
       "        text-align: right;\n",
       "    }\n",
       "</style>\n",
       "<table border=\"1\" class=\"dataframe\">\n",
       "  <thead>\n",
       "    <tr style=\"text-align: right;\">\n",
       "      <th></th>\n",
       "      <th>ACN</th>\n",
       "      <th>AMZN</th>\n",
       "      <th>COST</th>\n",
       "      <th>DIS</th>\n",
       "      <th>F</th>\n",
       "      <th>GILD</th>\n",
       "      <th>JPM</th>\n",
       "      <th>KO</th>\n",
       "      <th>LUV</th>\n",
       "      <th>MA</th>\n",
       "      <th>MSFT</th>\n",
       "      <th>PFE</th>\n",
       "      <th>TSLA</th>\n",
       "      <th>UNH</th>\n",
       "      <th>XOM</th>\n",
       "    </tr>\n",
       "  </thead>\n",
       "  <tbody>\n",
       "    <tr>\n",
       "      <th>ACN</th>\n",
       "      <td>0.092732</td>\n",
       "      <td>0.045260</td>\n",
       "      <td>0.027455</td>\n",
       "      <td>0.041106</td>\n",
       "      <td>0.043757</td>\n",
       "      <td>0.029990</td>\n",
       "      <td>0.049803</td>\n",
       "      <td>0.020547</td>\n",
       "      <td>0.037254</td>\n",
       "      <td>0.046005</td>\n",
       "      <td>0.040791</td>\n",
       "      <td>0.026416</td>\n",
       "      <td>0.039474</td>\n",
       "      <td>0.030869</td>\n",
       "      <td>0.031399</td>\n",
       "    </tr>\n",
       "    <tr>\n",
       "      <th>AMZN</th>\n",
       "      <td>0.045260</td>\n",
       "      <td>0.344013</td>\n",
       "      <td>0.047935</td>\n",
       "      <td>0.055452</td>\n",
       "      <td>0.052761</td>\n",
       "      <td>0.061393</td>\n",
       "      <td>0.068375</td>\n",
       "      <td>0.020508</td>\n",
       "      <td>0.047984</td>\n",
       "      <td>0.057344</td>\n",
       "      <td>0.072652</td>\n",
       "      <td>0.032703</td>\n",
       "      <td>0.055794</td>\n",
       "      <td>0.035794</td>\n",
       "      <td>0.027371</td>\n",
       "    </tr>\n",
       "    <tr>\n",
       "      <th>COST</th>\n",
       "      <td>0.027455</td>\n",
       "      <td>0.047935</td>\n",
       "      <td>0.103149</td>\n",
       "      <td>0.032329</td>\n",
       "      <td>0.031303</td>\n",
       "      <td>0.027811</td>\n",
       "      <td>0.039474</td>\n",
       "      <td>0.021317</td>\n",
       "      <td>0.031881</td>\n",
       "      <td>0.032937</td>\n",
       "      <td>0.037195</td>\n",
       "      <td>0.025826</td>\n",
       "      <td>0.022797</td>\n",
       "      <td>0.027691</td>\n",
       "      <td>0.020840</td>\n",
       "    </tr>\n",
       "    <tr>\n",
       "      <th>DIS</th>\n",
       "      <td>0.041106</td>\n",
       "      <td>0.055452</td>\n",
       "      <td>0.032329</td>\n",
       "      <td>0.099888</td>\n",
       "      <td>0.040238</td>\n",
       "      <td>0.033321</td>\n",
       "      <td>0.047550</td>\n",
       "      <td>0.026383</td>\n",
       "      <td>0.038729</td>\n",
       "      <td>0.050659</td>\n",
       "      <td>0.042979</td>\n",
       "      <td>0.030092</td>\n",
       "      <td>0.037244</td>\n",
       "      <td>0.032694</td>\n",
       "      <td>0.025579</td>\n",
       "    </tr>\n",
       "    <tr>\n",
       "      <th>F</th>\n",
       "      <td>0.043757</td>\n",
       "      <td>0.052761</td>\n",
       "      <td>0.031303</td>\n",
       "      <td>0.040238</td>\n",
       "      <td>0.124821</td>\n",
       "      <td>0.030766</td>\n",
       "      <td>0.054639</td>\n",
       "      <td>0.026475</td>\n",
       "      <td>0.045439</td>\n",
       "      <td>0.063379</td>\n",
       "      <td>0.041332</td>\n",
       "      <td>0.027809</td>\n",
       "      <td>0.049578</td>\n",
       "      <td>0.029615</td>\n",
       "      <td>0.027341</td>\n",
       "    </tr>\n",
       "    <tr>\n",
       "      <th>GILD</th>\n",
       "      <td>0.029990</td>\n",
       "      <td>0.061393</td>\n",
       "      <td>0.027811</td>\n",
       "      <td>0.033321</td>\n",
       "      <td>0.030766</td>\n",
       "      <td>0.244193</td>\n",
       "      <td>0.043992</td>\n",
       "      <td>0.016891</td>\n",
       "      <td>0.032034</td>\n",
       "      <td>0.034448</td>\n",
       "      <td>0.036419</td>\n",
       "      <td>0.033237</td>\n",
       "      <td>0.035103</td>\n",
       "      <td>0.035052</td>\n",
       "      <td>0.021705</td>\n",
       "    </tr>\n",
       "    <tr>\n",
       "      <th>JPM</th>\n",
       "      <td>0.049803</td>\n",
       "      <td>0.068375</td>\n",
       "      <td>0.039474</td>\n",
       "      <td>0.047550</td>\n",
       "      <td>0.054639</td>\n",
       "      <td>0.043992</td>\n",
       "      <td>0.130677</td>\n",
       "      <td>0.028223</td>\n",
       "      <td>0.049123</td>\n",
       "      <td>0.073085</td>\n",
       "      <td>0.050391</td>\n",
       "      <td>0.033589</td>\n",
       "      <td>0.040999</td>\n",
       "      <td>0.039485</td>\n",
       "      <td>0.033233</td>\n",
       "    </tr>\n",
       "    <tr>\n",
       "      <th>KO</th>\n",
       "      <td>0.020547</td>\n",
       "      <td>0.020508</td>\n",
       "      <td>0.021317</td>\n",
       "      <td>0.026383</td>\n",
       "      <td>0.026475</td>\n",
       "      <td>0.016891</td>\n",
       "      <td>0.028223</td>\n",
       "      <td>0.054292</td>\n",
       "      <td>0.023269</td>\n",
       "      <td>0.026837</td>\n",
       "      <td>0.028269</td>\n",
       "      <td>0.026539</td>\n",
       "      <td>0.020057</td>\n",
       "      <td>0.023248</td>\n",
       "      <td>0.020918</td>\n",
       "    </tr>\n",
       "    <tr>\n",
       "      <th>LUV</th>\n",
       "      <td>0.037254</td>\n",
       "      <td>0.047984</td>\n",
       "      <td>0.031881</td>\n",
       "      <td>0.038729</td>\n",
       "      <td>0.045439</td>\n",
       "      <td>0.032034</td>\n",
       "      <td>0.049123</td>\n",
       "      <td>0.023269</td>\n",
       "      <td>0.139180</td>\n",
       "      <td>0.048126</td>\n",
       "      <td>0.037230</td>\n",
       "      <td>0.026817</td>\n",
       "      <td>0.036206</td>\n",
       "      <td>0.033476</td>\n",
       "      <td>0.023049</td>\n",
       "    </tr>\n",
       "    <tr>\n",
       "      <th>MA</th>\n",
       "      <td>0.046005</td>\n",
       "      <td>0.057344</td>\n",
       "      <td>0.032937</td>\n",
       "      <td>0.050659</td>\n",
       "      <td>0.063379</td>\n",
       "      <td>0.034448</td>\n",
       "      <td>0.073085</td>\n",
       "      <td>0.026837</td>\n",
       "      <td>0.048126</td>\n",
       "      <td>0.121421</td>\n",
       "      <td>0.050027</td>\n",
       "      <td>0.034467</td>\n",
       "      <td>0.047314</td>\n",
       "      <td>0.045018</td>\n",
       "      <td>0.043556</td>\n",
       "    </tr>\n",
       "    <tr>\n",
       "      <th>MSFT</th>\n",
       "      <td>0.040791</td>\n",
       "      <td>0.072652</td>\n",
       "      <td>0.037195</td>\n",
       "      <td>0.042979</td>\n",
       "      <td>0.041332</td>\n",
       "      <td>0.036419</td>\n",
       "      <td>0.050391</td>\n",
       "      <td>0.028269</td>\n",
       "      <td>0.037230</td>\n",
       "      <td>0.050027</td>\n",
       "      <td>0.116331</td>\n",
       "      <td>0.031443</td>\n",
       "      <td>0.045806</td>\n",
       "      <td>0.034484</td>\n",
       "      <td>0.029888</td>\n",
       "    </tr>\n",
       "    <tr>\n",
       "      <th>PFE</th>\n",
       "      <td>0.026416</td>\n",
       "      <td>0.032703</td>\n",
       "      <td>0.025826</td>\n",
       "      <td>0.030092</td>\n",
       "      <td>0.027809</td>\n",
       "      <td>0.033237</td>\n",
       "      <td>0.033589</td>\n",
       "      <td>0.026539</td>\n",
       "      <td>0.026817</td>\n",
       "      <td>0.034467</td>\n",
       "      <td>0.031443</td>\n",
       "      <td>0.076252</td>\n",
       "      <td>0.021299</td>\n",
       "      <td>0.028783</td>\n",
       "      <td>0.023516</td>\n",
       "    </tr>\n",
       "    <tr>\n",
       "      <th>TSLA</th>\n",
       "      <td>0.039474</td>\n",
       "      <td>0.055794</td>\n",
       "      <td>0.022797</td>\n",
       "      <td>0.037244</td>\n",
       "      <td>0.049578</td>\n",
       "      <td>0.035103</td>\n",
       "      <td>0.040999</td>\n",
       "      <td>0.020057</td>\n",
       "      <td>0.036206</td>\n",
       "      <td>0.047314</td>\n",
       "      <td>0.045806</td>\n",
       "      <td>0.021299</td>\n",
       "      <td>0.317643</td>\n",
       "      <td>0.033124</td>\n",
       "      <td>0.031610</td>\n",
       "    </tr>\n",
       "    <tr>\n",
       "      <th>UNH</th>\n",
       "      <td>0.030869</td>\n",
       "      <td>0.035794</td>\n",
       "      <td>0.027691</td>\n",
       "      <td>0.032694</td>\n",
       "      <td>0.029615</td>\n",
       "      <td>0.035052</td>\n",
       "      <td>0.039485</td>\n",
       "      <td>0.023248</td>\n",
       "      <td>0.033476</td>\n",
       "      <td>0.045018</td>\n",
       "      <td>0.034484</td>\n",
       "      <td>0.028783</td>\n",
       "      <td>0.033124</td>\n",
       "      <td>0.167283</td>\n",
       "      <td>0.022825</td>\n",
       "    </tr>\n",
       "    <tr>\n",
       "      <th>XOM</th>\n",
       "      <td>0.031399</td>\n",
       "      <td>0.027371</td>\n",
       "      <td>0.020840</td>\n",
       "      <td>0.025579</td>\n",
       "      <td>0.027341</td>\n",
       "      <td>0.021705</td>\n",
       "      <td>0.033233</td>\n",
       "      <td>0.020918</td>\n",
       "      <td>0.023049</td>\n",
       "      <td>0.043556</td>\n",
       "      <td>0.029888</td>\n",
       "      <td>0.023516</td>\n",
       "      <td>0.031610</td>\n",
       "      <td>0.022825</td>\n",
       "      <td>0.051059</td>\n",
       "    </tr>\n",
       "  </tbody>\n",
       "</table>\n",
       "</div>"
      ],
      "text/plain": [
       "           ACN      AMZN      COST       DIS         F      GILD       JPM  \\\n",
       "ACN   0.092732  0.045260  0.027455  0.041106  0.043757  0.029990  0.049803   \n",
       "AMZN  0.045260  0.344013  0.047935  0.055452  0.052761  0.061393  0.068375   \n",
       "COST  0.027455  0.047935  0.103149  0.032329  0.031303  0.027811  0.039474   \n",
       "DIS   0.041106  0.055452  0.032329  0.099888  0.040238  0.033321  0.047550   \n",
       "F     0.043757  0.052761  0.031303  0.040238  0.124821  0.030766  0.054639   \n",
       "GILD  0.029990  0.061393  0.027811  0.033321  0.030766  0.244193  0.043992   \n",
       "JPM   0.049803  0.068375  0.039474  0.047550  0.054639  0.043992  0.130677   \n",
       "KO    0.020547  0.020508  0.021317  0.026383  0.026475  0.016891  0.028223   \n",
       "LUV   0.037254  0.047984  0.031881  0.038729  0.045439  0.032034  0.049123   \n",
       "MA    0.046005  0.057344  0.032937  0.050659  0.063379  0.034448  0.073085   \n",
       "MSFT  0.040791  0.072652  0.037195  0.042979  0.041332  0.036419  0.050391   \n",
       "PFE   0.026416  0.032703  0.025826  0.030092  0.027809  0.033237  0.033589   \n",
       "TSLA  0.039474  0.055794  0.022797  0.037244  0.049578  0.035103  0.040999   \n",
       "UNH   0.030869  0.035794  0.027691  0.032694  0.029615  0.035052  0.039485   \n",
       "XOM   0.031399  0.027371  0.020840  0.025579  0.027341  0.021705  0.033233   \n",
       "\n",
       "            KO       LUV        MA      MSFT       PFE      TSLA       UNH  \\\n",
       "ACN   0.020547  0.037254  0.046005  0.040791  0.026416  0.039474  0.030869   \n",
       "AMZN  0.020508  0.047984  0.057344  0.072652  0.032703  0.055794  0.035794   \n",
       "COST  0.021317  0.031881  0.032937  0.037195  0.025826  0.022797  0.027691   \n",
       "DIS   0.026383  0.038729  0.050659  0.042979  0.030092  0.037244  0.032694   \n",
       "F     0.026475  0.045439  0.063379  0.041332  0.027809  0.049578  0.029615   \n",
       "GILD  0.016891  0.032034  0.034448  0.036419  0.033237  0.035103  0.035052   \n",
       "JPM   0.028223  0.049123  0.073085  0.050391  0.033589  0.040999  0.039485   \n",
       "KO    0.054292  0.023269  0.026837  0.028269  0.026539  0.020057  0.023248   \n",
       "LUV   0.023269  0.139180  0.048126  0.037230  0.026817  0.036206  0.033476   \n",
       "MA    0.026837  0.048126  0.121421  0.050027  0.034467  0.047314  0.045018   \n",
       "MSFT  0.028269  0.037230  0.050027  0.116331  0.031443  0.045806  0.034484   \n",
       "PFE   0.026539  0.026817  0.034467  0.031443  0.076252  0.021299  0.028783   \n",
       "TSLA  0.020057  0.036206  0.047314  0.045806  0.021299  0.317643  0.033124   \n",
       "UNH   0.023248  0.033476  0.045018  0.034484  0.028783  0.033124  0.167283   \n",
       "XOM   0.020918  0.023049  0.043556  0.029888  0.023516  0.031610  0.022825   \n",
       "\n",
       "           XOM  \n",
       "ACN   0.031399  \n",
       "AMZN  0.027371  \n",
       "COST  0.020840  \n",
       "DIS   0.025579  \n",
       "F     0.027341  \n",
       "GILD  0.021705  \n",
       "JPM   0.033233  \n",
       "KO    0.020918  \n",
       "LUV   0.023049  \n",
       "MA    0.043556  \n",
       "MSFT  0.029888  \n",
       "PFE   0.023516  \n",
       "TSLA  0.031610  \n",
       "UNH   0.022825  \n",
       "XOM   0.051059  "
      ]
     },
     "execution_count": 7,
     "metadata": {},
     "output_type": "execute_result"
    }
   ],
   "source": [
    "from pypfopt import risk_models\n",
    "from pypfopt import plotting\n",
    "\n",
    "sample_cov = risk_models.sample_cov(prices, frequency=252)\n",
    "sample_cov"
   ]
  },
  {
   "cell_type": "code",
   "execution_count": 8,
   "metadata": {},
   "outputs": [
    {
     "data": {
      "image/png": "[encoded data removed]",
      "text/plain": [
       "<Figure size 432x288 with 2 Axes>"
      ]
     },
     "metadata": {
      "needs_background": "light"
     },
     "output_type": "display_data"
    }
   ],
   "source": [
    "plotting.plot_covariance(sample_cov, plot_correlation=True);"
   ]
  },
  {
   "cell_type": "markdown",
   "metadata": {},
   "source": [
    "For reasons discussed in the docs, the sample covariance matrix should not be your default choice. I think a better option is Ledoit-Wolf shrinkage, which reduces the extreme values in the covariance matrix. In the image below, we can see that there are fewer bright spots outside the diagonal:"
   ]
  },
  {
   "cell_type": "code",
   "execution_count": 9,
   "metadata": {},
   "outputs": [
    {
     "data": {
      "image/png": "[encoded data removed]",
      "text/plain": [
       "<Figure size 432x288 with 2 Axes>"
      ]
     },
     "metadata": {
      "needs_background": "light"
     },
     "output_type": "display_data"
    }
   ],
   "source": [
    "S = risk_models.CovarianceShrinkage(prices).ledoit_wolf()\n",
    "plotting.plot_covariance(S, plot_correlation=True);"
   ]
  },
  {
   "cell_type": "markdown",
   "metadata": {},
   "source": [
    "## Return estimation\n",
    "\n",
    "As discussed in the docs, it is often a bad idea to provide returns using a simple estimate like the mean of past returns. Unless you have a proprietary method for estimating returns, research suggests that you may be better off not providing expected returns – you can then just find the `min_volatility()` portfolio or use `HRP`. \n",
    "\n",
    "However, in this example we will use the CAPM returns, which aims to be slightly more stable than the default mean historical return. Please see the notebook `1-RiskReturnModels.ipynb` for more information."
   ]
  },
  {
   "cell_type": "code",
   "execution_count": 10,
   "metadata": {},
   "outputs": [
    {
     "data": {
      "text/plain": [
       "ACN     0.211204\n",
       "AMZN    0.363452\n",
       "COST    0.196172\n",
       "DIS     0.224339\n",
       "F       0.223738\n",
       "GILD    0.260786\n",
       "JPM     0.254547\n",
       "KO      0.149184\n",
       "LUV     0.227975\n",
       "MA      0.267397\n",
       "MSFT    0.240852\n",
       "PFE     0.180505\n",
       "TSLA    0.282645\n",
       "UNH     0.223951\n",
       "XOM     0.141494\n",
       "Name: mkt, dtype: float64"
      ]
     },
     "execution_count": 10,
     "metadata": {},
     "output_type": "execute_result"
    }
   ],
   "source": [
    "from pypfopt import expected_returns\n",
    "\n",
    "mu = expected_returns.capm_return(prices)\n",
    "mu"
   ]
  },
  {
   "cell_type": "code",
   "execution_count": 11,
   "metadata": {},
   "outputs": [
    {
     "data": {
      "image/png": "[encoded data removed]",
      "text/plain": [
       "<Figure size 720x432 with 1 Axes>"
      ]
     },
     "metadata": {
      "needs_background": "light"
     },
     "output_type": "display_data"
    }
   ],
   "source": [
    "mu.plot.barh(figsize=(10,6));"
   ]
  },
  {
   "cell_type": "markdown",
   "metadata": {},
   "source": [
    "## Long/short min variance\n",
    "\n",
    "In this section, we construct a long/short portfolio with the objective of minimising variance. There is a good deal of research that demonstrates that these global-minimum variance (GMV) portfolios outperform mean-variance optimised portfolios."
   ]
  },
  {
   "cell_type": "code",
   "execution_count": 12,
   "metadata": {},
   "outputs": [],
   "source": [
    "from pypfopt import EfficientFrontier"
   ]
  },
  {
   "cell_type": "code",
   "execution_count": 13,
   "metadata": {},
   "outputs": [
    {
     "data": {
      "text/plain": [
       "OrderedDict([('ACN', 0.23337),\n",
       "             ('AMZN', 0.00831),\n",
       "             ('COST', 0.09837),\n",
       "             ('DIS', -0.0161),\n",
       "             ('F', -0.01663),\n",
       "             ('GILD', 0.04142),\n",
       "             ('JPM', -0.05157),\n",
       "             ('KO', 0.12184),\n",
       "             ('LUV', 0.02416),\n",
       "             ('MA', 0.23845),\n",
       "             ('MSFT', 0.0033),\n",
       "             ('PFE', 0.0616),\n",
       "             ('TSLA', 0.15092),\n",
       "             ('UNH', 0.02939),\n",
       "             ('XOM', 0.07315)])"
      ]
     },
     "execution_count": 13,
     "metadata": {},
     "output_type": "execute_result"
    }
   ],
   "source": [
    "S = risk_models.CovarianceShrinkage(prices).ledoit_wolf()\n",
    "\n",
    "# You don't have to provide expected returns in this case\n",
    "ef = EfficientFrontier(None, S, weight_bounds=(None, None))\n",
    "ef.min_volatility()\n",
    "weights = ef.clean_weights()\n",
    "weights"
   ]
  },
  {
   "cell_type": "code",
   "execution_count": 14,
   "metadata": {},
   "outputs": [
    {
     "data": {
      "image/png": "[encoded data removed]",
      "text/plain": [
       "<Figure size 432x288 with 1 Axes>"
      ]
     },
     "metadata": {
      "needs_background": "light"
     },
     "output_type": "display_data"
    }
   ],
   "source": [
    "pd.Series(weights).plot.barh();"
   ]
  },
  {
   "cell_type": "markdown",
   "metadata": {},
   "source": [
    "We can get a quick indication of the portfolio performance as follows. Note that this is an in sample estimate and may have very little resemblance to how the portfolio actually performs!"
   ]
  },
  {
   "cell_type": "code",
   "execution_count": 15,
   "metadata": {},
   "outputs": [
    {
     "name": "stdout",
     "output_type": "stream",
     "text": [
      "Annual volatility: 11.8%\n"
     ]
    }
   ],
   "source": [
    "ef.portfolio_performance(verbose=True);"
   ]
  },
  {
   "cell_type": "code",
   "execution_count": 16,
   "metadata": {},
   "outputs": [
    {
     "data": {
      "text/html": [
       "<div>\n",
       "<style scoped>\n",
       "    .dataframe tbody tr th:only-of-type {\n",
       "        vertical-align: middle;\n",
       "    }\n",
       "\n",
       "    .dataframe tbody tr th {\n",
       "        vertical-align: top;\n",
       "    }\n",
       "\n",
       "    .dataframe thead th {\n",
       "        text-align: right;\n",
       "    }\n",
       "</style>\n",
       "<table border=\"1\" class=\"dataframe\">\n",
       "  <thead>\n",
       "    <tr style=\"text-align: right;\">\n",
       "      <th></th>\n",
       "      <th>ACN</th>\n",
       "      <th>AMZN</th>\n",
       "      <th>COST</th>\n",
       "      <th>DIS</th>\n",
       "      <th>F</th>\n",
       "      <th>GILD</th>\n",
       "      <th>JPM</th>\n",
       "      <th>KO</th>\n",
       "      <th>LUV</th>\n",
       "      <th>MA</th>\n",
       "      <th>MSFT</th>\n",
       "      <th>PFE</th>\n",
       "      <th>TSLA</th>\n",
       "      <th>UNH</th>\n",
       "      <th>XOM</th>\n",
       "    </tr>\n",
       "    <tr>\n",
       "      <th>Date</th>\n",
       "      <th></th>\n",
       "      <th></th>\n",
       "      <th></th>\n",
       "      <th></th>\n",
       "      <th></th>\n",
       "      <th></th>\n",
       "      <th></th>\n",
       "      <th></th>\n",
       "      <th></th>\n",
       "      <th></th>\n",
       "      <th></th>\n",
       "      <th></th>\n",
       "      <th></th>\n",
       "      <th></th>\n",
       "      <th></th>\n",
       "    </tr>\n",
       "  </thead>\n",
       "  <tbody>\n",
       "    <tr>\n",
       "      <th>1962-01-02</th>\n",
       "      <td>NaN</td>\n",
       "      <td>NaN</td>\n",
       "      <td>NaN</td>\n",
       "      <td>0.058398</td>\n",
       "      <td>NaN</td>\n",
       "      <td>NaN</td>\n",
       "      <td>NaN</td>\n",
       "      <td>0.052365</td>\n",
       "      <td>NaN</td>\n",
       "      <td>NaN</td>\n",
       "      <td>NaN</td>\n",
       "      <td>NaN</td>\n",
       "      <td>NaN</td>\n",
       "      <td>NaN</td>\n",
       "      <td>0.109316</td>\n",
       "    </tr>\n",
       "    <tr>\n",
       "      <th>1962-01-03</th>\n",
       "      <td>NaN</td>\n",
       "      <td>NaN</td>\n",
       "      <td>NaN</td>\n",
       "      <td>0.059182</td>\n",
       "      <td>NaN</td>\n",
       "      <td>NaN</td>\n",
       "      <td>NaN</td>\n",
       "      <td>0.051198</td>\n",
       "      <td>NaN</td>\n",
       "      <td>NaN</td>\n",
       "      <td>NaN</td>\n",
       "      <td>NaN</td>\n",
       "      <td>NaN</td>\n",
       "      <td>NaN</td>\n",
       "      <td>0.110940</td>\n",
       "    </tr>\n",
       "    <tr>\n",
       "      <th>1962-01-04</th>\n",
       "      <td>NaN</td>\n",
       "      <td>NaN</td>\n",
       "      <td>NaN</td>\n",
       "      <td>0.059182</td>\n",
       "      <td>NaN</td>\n",
       "      <td>NaN</td>\n",
       "      <td>NaN</td>\n",
       "      <td>0.051587</td>\n",
       "      <td>NaN</td>\n",
       "      <td>NaN</td>\n",
       "      <td>NaN</td>\n",
       "      <td>NaN</td>\n",
       "      <td>NaN</td>\n",
       "      <td>NaN</td>\n",
       "      <td>0.111210</td>\n",
       "    </tr>\n",
       "    <tr>\n",
       "      <th>1962-01-05</th>\n",
       "      <td>NaN</td>\n",
       "      <td>NaN</td>\n",
       "      <td>NaN</td>\n",
       "      <td>0.059378</td>\n",
       "      <td>NaN</td>\n",
       "      <td>NaN</td>\n",
       "      <td>NaN</td>\n",
       "      <td>0.050421</td>\n",
       "      <td>NaN</td>\n",
       "      <td>NaN</td>\n",
       "      <td>NaN</td>\n",
       "      <td>NaN</td>\n",
       "      <td>NaN</td>\n",
       "      <td>NaN</td>\n",
       "      <td>0.108775</td>\n",
       "    </tr>\n",
       "    <tr>\n",
       "      <th>1962-01-08</th>\n",
       "      <td>NaN</td>\n",
       "      <td>NaN</td>\n",
       "      <td>NaN</td>\n",
       "      <td>0.059182</td>\n",
       "      <td>NaN</td>\n",
       "      <td>NaN</td>\n",
       "      <td>NaN</td>\n",
       "      <td>0.049902</td>\n",
       "      <td>NaN</td>\n",
       "      <td>NaN</td>\n",
       "      <td>NaN</td>\n",
       "      <td>NaN</td>\n",
       "      <td>NaN</td>\n",
       "      <td>NaN</td>\n",
       "      <td>0.108504</td>\n",
       "    </tr>\n",
       "    <tr>\n",
       "      <th>...</th>\n",
       "      <td>...</td>\n",
       "      <td>...</td>\n",
       "      <td>...</td>\n",
       "      <td>...</td>\n",
       "      <td>...</td>\n",
       "      <td>...</td>\n",
       "      <td>...</td>\n",
       "      <td>...</td>\n",
       "      <td>...</td>\n",
       "      <td>...</td>\n",
       "      <td>...</td>\n",
       "      <td>...</td>\n",
       "      <td>...</td>\n",
       "      <td>...</td>\n",
       "      <td>...</td>\n",
       "    </tr>\n",
       "    <tr>\n",
       "      <th>2021-01-22</th>\n",
       "      <td>254.770004</td>\n",
       "      <td>3292.229980</td>\n",
       "      <td>362.299988</td>\n",
       "      <td>172.779999</td>\n",
       "      <td>11.52</td>\n",
       "      <td>66.940002</td>\n",
       "      <td>133.789993</td>\n",
       "      <td>48.490002</td>\n",
       "      <td>47.389999</td>\n",
       "      <td>328.989990</td>\n",
       "      <td>225.949997</td>\n",
       "      <td>36.549999</td>\n",
       "      <td>846.640015</td>\n",
       "      <td>347.549988</td>\n",
       "      <td>47.430000</td>\n",
       "    </tr>\n",
       "    <tr>\n",
       "      <th>2021-01-25</th>\n",
       "      <td>252.039993</td>\n",
       "      <td>3294.000000</td>\n",
       "      <td>361.880005</td>\n",
       "      <td>171.889999</td>\n",
       "      <td>11.29</td>\n",
       "      <td>68.160004</td>\n",
       "      <td>132.119995</td>\n",
       "      <td>48.779999</td>\n",
       "      <td>45.619999</td>\n",
       "      <td>329.190002</td>\n",
       "      <td>229.529999</td>\n",
       "      <td>37.279999</td>\n",
       "      <td>880.799988</td>\n",
       "      <td>347.809998</td>\n",
       "      <td>46.900002</td>\n",
       "    </tr>\n",
       "    <tr>\n",
       "      <th>2021-01-26</th>\n",
       "      <td>252.990005</td>\n",
       "      <td>3326.129883</td>\n",
       "      <td>364.980011</td>\n",
       "      <td>169.559998</td>\n",
       "      <td>11.19</td>\n",
       "      <td>66.699997</td>\n",
       "      <td>131.580002</td>\n",
       "      <td>49.290001</td>\n",
       "      <td>45.810001</td>\n",
       "      <td>327.700012</td>\n",
       "      <td>232.330002</td>\n",
       "      <td>37.310001</td>\n",
       "      <td>883.090027</td>\n",
       "      <td>343.109985</td>\n",
       "      <td>45.869999</td>\n",
       "    </tr>\n",
       "    <tr>\n",
       "      <th>2021-01-27</th>\n",
       "      <td>246.100006</td>\n",
       "      <td>3232.580078</td>\n",
       "      <td>356.390015</td>\n",
       "      <td>163.029999</td>\n",
       "      <td>10.79</td>\n",
       "      <td>65.480003</td>\n",
       "      <td>127.860001</td>\n",
       "      <td>48.529999</td>\n",
       "      <td>44.150002</td>\n",
       "      <td>315.489990</td>\n",
       "      <td>232.899994</td>\n",
       "      <td>36.240002</td>\n",
       "      <td>864.159973</td>\n",
       "      <td>332.989990</td>\n",
       "      <td>45.349998</td>\n",
       "    </tr>\n",
       "    <tr>\n",
       "      <th>2021-01-28</th>\n",
       "      <td>249.339996</td>\n",
       "      <td>3237.620117</td>\n",
       "      <td>357.059998</td>\n",
       "      <td>171.880005</td>\n",
       "      <td>10.72</td>\n",
       "      <td>64.680000</td>\n",
       "      <td>130.110001</td>\n",
       "      <td>49.150002</td>\n",
       "      <td>44.599998</td>\n",
       "      <td>324.279999</td>\n",
       "      <td>238.929993</td>\n",
       "      <td>35.860001</td>\n",
       "      <td>835.429993</td>\n",
       "      <td>338.149994</td>\n",
       "      <td>46.060001</td>\n",
       "    </tr>\n",
       "  </tbody>\n",
       "</table>\n",
       "<p>14871 rows × 15 columns</p>\n",
       "</div>"
      ],
      "text/plain": [
       "                   ACN         AMZN        COST         DIS      F       GILD  \\\n",
       "Date                                                                            \n",
       "1962-01-02         NaN          NaN         NaN    0.058398    NaN        NaN   \n",
       "1962-01-03         NaN          NaN         NaN    0.059182    NaN        NaN   \n",
       "1962-01-04         NaN          NaN         NaN    0.059182    NaN        NaN   \n",
       "1962-01-05         NaN          NaN         NaN    0.059378    NaN        NaN   \n",
       "1962-01-08         NaN          NaN         NaN    0.059182    NaN        NaN   \n",
       "...                ...          ...         ...         ...    ...        ...   \n",
       "2021-01-22  254.770004  3292.229980  362.299988  172.779999  11.52  66.940002   \n",
       "2021-01-25  252.039993  3294.000000  361.880005  171.889999  11.29  68.160004   \n",
       "2021-01-26  252.990005  3326.129883  364.980011  169.559998  11.19  66.699997   \n",
       "2021-01-27  246.100006  3232.580078  356.390015  163.029999  10.79  65.480003   \n",
       "2021-01-28  249.339996  3237.620117  357.059998  171.880005  10.72  64.680000   \n",
       "\n",
       "                   JPM         KO        LUV          MA        MSFT  \\\n",
       "Date                                                                   \n",
       "1962-01-02         NaN   0.052365        NaN         NaN         NaN   \n",
       "1962-01-03         NaN   0.051198        NaN         NaN         NaN   \n",
       "1962-01-04         NaN   0.051587        NaN         NaN         NaN   \n",
       "1962-01-05         NaN   0.050421        NaN         NaN         NaN   \n",
       "1962-01-08         NaN   0.049902        NaN         NaN         NaN   \n",
       "...                ...        ...        ...         ...         ...   \n",
       "2021-01-22  133.789993  48.490002  47.389999  328.989990  225.949997   \n",
       "2021-01-25  132.119995  48.779999  45.619999  329.190002  229.529999   \n",
       "2021-01-26  131.580002  49.290001  45.810001  327.700012  232.330002   \n",
       "2021-01-27  127.860001  48.529999  44.150002  315.489990  232.899994   \n",
       "2021-01-28  130.110001  49.150002  44.599998  324.279999  238.929993   \n",
       "\n",
       "                  PFE        TSLA         UNH        XOM  \n",
       "Date                                                      \n",
       "1962-01-02        NaN         NaN         NaN   0.109316  \n",
       "1962-01-03        NaN         NaN         NaN   0.110940  \n",
       "1962-01-04        NaN         NaN         NaN   0.111210  \n",
       "1962-01-05        NaN         NaN         NaN   0.108775  \n",
       "1962-01-08        NaN         NaN         NaN   0.108504  \n",
       "...               ...         ...         ...        ...  \n",
       "2021-01-22  36.549999  846.640015  347.549988  47.430000  \n",
       "2021-01-25  37.279999  880.799988  347.809998  46.900002  \n",
       "2021-01-26  37.310001  883.090027  343.109985  45.869999  \n",
       "2021-01-27  36.240002  864.159973  332.989990  45.349998  \n",
       "2021-01-28  35.860001  835.429993  338.149994  46.060001  \n",
       "\n",
       "[14871 rows x 15 columns]"
      ]
     },
     "execution_count": 16,
     "metadata": {},
     "output_type": "execute_result"
    }
   ],
   "source": [
    "prices"
   ]
  },
  {
   "cell_type": "markdown",
   "metadata": {},
   "source": [
    "Let's say we were happy with this portfolio and wanted to actually go out and buy the shares.  To do this, we would need to construct a **discrete allocation** (unless your broker supports fractional shares!)\n",
    "\n",
    "If we had \\$20,0000 to invest and would like our portfolio to be 130/30 long/short, we can construct the actual allocation as follows:"
   ]
  },
  {
   "cell_type": "code",
   "execution_count": 17,
   "metadata": {},
   "outputs": [
    {
     "name": "stdout",
     "output_type": "stream",
     "text": [
      "Discrete allocation performed with $8.82 leftover\n"
     ]
    },
    {
     "data": {
      "text/plain": [
       "{'ACN': 17,\n",
       " 'COST': 5,\n",
       " 'GILD': 12,\n",
       " 'KO': 46,\n",
       " 'LUV': 10,\n",
       " 'MA': 14,\n",
       " 'MSFT': 1,\n",
       " 'PFE': 32,\n",
       " 'TSLA': 3,\n",
       " 'UNH': 2,\n",
       " 'XOM': 30,\n",
       " 'DIS': -7,\n",
       " 'F': -107,\n",
       " 'JPM': -28}"
      ]
     },
     "execution_count": 17,
     "metadata": {},
     "output_type": "execute_result"
    }
   ],
   "source": [
    "from pypfopt import DiscreteAllocation\n",
    "\n",
    "latest_prices = prices.iloc[-1]  # prices as of the day you are allocating\n",
    "da = DiscreteAllocation(weights, latest_prices, total_portfolio_value=20000, short_ratio=0.3)\n",
    "alloc, leftover = da.lp_portfolio()\n",
    "print(f\"Discrete allocation performed with ${leftover:.2f} leftover\")\n",
    "alloc"
   ]
  },
  {
   "cell_type": "markdown",
   "metadata": {},
   "source": [
    "## Max Sharpe with sector constraints\n",
    "\n",
    "If you have your own model for returns (or have read the warnings and want to proceed anyways), you may consider maximising the Sharpe ratio. This theoretically gives the optimal portfolio in terms of risks-returns.\n",
    "\n",
    "In this section, we construct a long-only max-sharpe portfolio, but also incorporate sector constraints. Sector constraints require three things. A `sector_mapper`, your `sector_lower` bounds, and your `sector_upper` bounds."
   ]
  },
  {
   "cell_type": "code",
   "execution_count": 18,
   "metadata": {},
   "outputs": [],
   "source": [
    "sector_mapper = {\n",
    "    \"MSFT\": \"Tech\",\n",
    "    \"AMZN\": \"Consumer Discretionary\",\n",
    "    \"KO\": \"Consumer Staples\",\n",
    "    \"MA\": \"Financial Services\",\n",
    "    \"COST\": \"Consumer Staples\",\n",
    "    \"LUV\": \"Aerospace\",\n",
    "    \"XOM\": \"Energy\",\n",
    "    \"PFE\": \"Healthcare\",\n",
    "    \"JPM\": \"Financial Services\",\n",
    "    \"UNH\": \"Healthcare\",\n",
    "    \"ACN\": \"Misc\",\n",
    "    \"DIS\": \"Media\",\n",
    "    \"GILD\": \"Healthcare\",\n",
    "    \"F\": \"Auto\",\n",
    "    \"TSLA\": \"Auto\"\n",
    "}\n",
    "\n",
    "sector_lower = {\n",
    "    \"Consumer Staples\": 0.1, # at least 10% to staples\n",
    "    \"Tech\": 0.05 # at least 5% to tech\n",
    "    # For all other sectors, it will be assumed there is no lower bound\n",
    "}\n",
    "\n",
    "sector_upper = {\n",
    "    \"Tech\": 0.2,\n",
    "    \"Aerospace\":0.1,\n",
    "    \"Energy\": 0.1,\n",
    "    \"Auto\":0.15\n",
    "}"
   ]
  },
  {
   "cell_type": "markdown",
   "metadata": {},
   "source": [
    "We then set up the optimiser and add our constraints. We can use `ef.add_objective()` to add other constraints. For example, let's say that in addition to the above sector constraints, I specifically want:\n",
    "\n",
    "- 10% of the portfolio in AMZN\n",
    "- Less than 5% of my portfolio in TSLA"
   ]
  },
  {
   "cell_type": "code",
   "execution_count": 19,
   "metadata": {},
   "outputs": [],
   "source": [
    "mu = expected_returns.capm_return(prices)\n",
    "S = risk_models.CovarianceShrinkage(prices).ledoit_wolf()\n",
    "\n",
    "ef = EfficientFrontier(mu, S)  # weight_bounds automatically set to (0, 1)\n",
    "ef.add_sector_constraints(sector_mapper, sector_lower, sector_upper)\n",
    "\n",
    "amzn_index = ef.tickers.index(\"AMZN\")\n",
    "ef.add_constraint(lambda w: w[amzn_index] == 0.10)\n",
    "\n",
    "tsla_index = ef.tickers.index(\"TSLA\")\n",
    "ef.add_constraint(lambda w: w[tsla_index] <= 0.05)\n",
    "\n",
    "ef.add_constraint(lambda w: w[10] >= 0.05)\n",
    "\n",
    "ef.max_sharpe()\n",
    "weights = ef.clean_weights()"
   ]
  },
  {
   "cell_type": "code",
   "execution_count": 20,
   "metadata": {},
   "outputs": [
    {
     "data": {
      "text/plain": [
       "OrderedDict([('ACN', 0.16981),\n",
       "             ('AMZN', 0.1),\n",
       "             ('COST', 0.05563),\n",
       "             ('DIS', 0.0),\n",
       "             ('F', 0.0),\n",
       "             ('GILD', 0.05965),\n",
       "             ('JPM', 0.0),\n",
       "             ('KO', 0.04437),\n",
       "             ('LUV', 0.01926),\n",
       "             ('MA', 0.40141),\n",
       "             ('MSFT', 0.05),\n",
       "             ('PFE', 0.01872),\n",
       "             ('TSLA', 0.05),\n",
       "             ('UNH', 0.03116),\n",
       "             ('XOM', 0.0)])"
      ]
     },
     "execution_count": 20,
     "metadata": {},
     "output_type": "execute_result"
    }
   ],
   "source": [
    "weights"
   ]
  },
  {
   "cell_type": "code",
   "execution_count": 21,
   "metadata": {},
   "outputs": [
    {
     "data": {
      "image/png": "[encoded data removed]",
      "text/plain": [
       "<Figure size 720x720 with 1 Axes>"
      ]
     },
     "metadata": {},
     "output_type": "display_data"
    }
   ],
   "source": [
    "pd.Series(weights).plot.pie(figsize=(10,10));"
   ]
  },
  {
   "cell_type": "markdown",
   "metadata": {},
   "source": [
    "We can immediately see that our explicit constraints were satisfied, and can check all the sector constraints as follows:\n"
   ]
  },
  {
   "cell_type": "code",
   "execution_count": 22,
   "metadata": {},
   "outputs": [
    {
     "name": "stdout",
     "output_type": "stream",
     "text": [
      "Misc: 0.170\n",
      "Auto: 0.050\n",
      "Consumer Staples: 0.100\n",
      "Aerospace: 0.019\n",
      "Media: 0.000\n",
      "Tech: 0.050\n",
      "Financial Services: 0.401\n",
      "Consumer Discretionary: 0.100\n",
      "Healthcare: 0.110\n",
      "Energy: 0.000\n"
     ]
    }
   ],
   "source": [
    "# O(N^2) loop not a good idea in a coding interview :)\n",
    "for sector in set(sector_mapper.values()):\n",
    "    total_weight = 0\n",
    "    for t,w in weights.items():\n",
    "        if sector_mapper[t] == sector:\n",
    "            total_weight += w\n",
    "    print(f\"{sector}: {total_weight:.3f}\")"
   ]
  },
  {
   "cell_type": "markdown",
   "metadata": {},
   "source": [
    "## Maximise return for a given risk, with L2 regularisation\n",
    "\n",
    "Let's imagine that we've put a lot of thought into our risk tolerance, and have decided that we can't accept anything more than 15% volatility. We can use PyPortfolioOpt to construct a portfolio that maximises return for a given risk (with the same caveats about expected returns)."
   ]
  },
  {
   "cell_type": "code",
   "execution_count": 23,
   "metadata": {},
   "outputs": [
    {
     "data": {
      "text/plain": [
       "OrderedDict([('ACN', 0.0),\n",
       "             ('AMZN', 0.19615),\n",
       "             ('COST', 0.1),\n",
       "             ('DIS', 0.0),\n",
       "             ('F', 0.0),\n",
       "             ('GILD', 0.05417),\n",
       "             ('JPM', 0.0),\n",
       "             ('KO', 0.0),\n",
       "             ('LUV', 0.0),\n",
       "             ('MA', 0.44968),\n",
       "             ('MSFT', 0.05),\n",
       "             ('PFE', 0.0),\n",
       "             ('TSLA', 0.15),\n",
       "             ('UNH', 0.0),\n",
       "             ('XOM', 0.0)])"
      ]
     },
     "execution_count": 23,
     "metadata": {},
     "output_type": "execute_result"
    }
   ],
   "source": [
    "ef = EfficientFrontier(mu, S)\n",
    "ef.add_sector_constraints(sector_mapper, sector_lower, sector_upper)\n",
    "ef.efficient_risk(target_volatility=0.15)\n",
    "weights = ef.clean_weights()\n",
    "weights"
   ]
  },
  {
   "cell_type": "code",
   "execution_count": 24,
   "metadata": {},
   "outputs": [
    {
     "name": "stdout",
     "output_type": "stream",
     "text": [
      "9/15 tickers have zero weight\n"
     ]
    }
   ],
   "source": [
    "num_small = len([k for k in weights if weights[k] <= 1e-4])\n",
    "print(f\"{num_small}/{len(ef.tickers)} tickers have zero weight\")"
   ]
  },
  {
   "cell_type": "code",
   "execution_count": 25,
   "metadata": {},
   "outputs": [
    {
     "name": "stdout",
     "output_type": "stream",
     "text": [
      "Expected annual return: 28.0%\n",
      "Annual volatility: 15.0%\n",
      "Sharpe Ratio: 1.73\n"
     ]
    }
   ],
   "source": [
    "ef.portfolio_performance(verbose=True);"
   ]
  },
  {
   "cell_type": "markdown",
   "metadata": {},
   "source": [
    "While this portfolio seems like it meets our objectives, we might be worried by the fact that a lot of the tickers have been assigned zero weight. In effect, the optimiser is \"overfitting\" to the data you have provided -- you are much more likely to get better results by enforcing some level of diversification. One way of doing this is to use **L2 regularisation** – essentially, adding a penalty on the number of near-zero weights."
   ]
  },
  {
   "cell_type": "code",
   "execution_count": 26,
   "metadata": {},
   "outputs": [
    {
     "data": {
      "text/plain": [
       "OrderedDict([('ACN', 0.04643),\n",
       "             ('AMZN', 0.2102),\n",
       "             ('COST', 0.09026),\n",
       "             ('DIS', 0.00844),\n",
       "             ('F', 0.0),\n",
       "             ('GILD', 0.0835),\n",
       "             ('JPM', 0.04223),\n",
       "             ('KO', 0.00974),\n",
       "             ('LUV', 0.02561),\n",
       "             ('MA', 0.25137),\n",
       "             ('MSFT', 0.05),\n",
       "             ('PFE', 0.0),\n",
       "             ('TSLA', 0.15),\n",
       "             ('UNH', 0.03223),\n",
       "             ('XOM', 0.0)])"
      ]
     },
     "execution_count": 26,
     "metadata": {},
     "output_type": "execute_result"
    }
   ],
   "source": [
    "from pypfopt import objective_functions\n",
    "\n",
    "# You must always create a new efficient frontier object\n",
    "ef = EfficientFrontier(mu, S)\n",
    "ef.add_sector_constraints(sector_mapper, sector_lower, sector_upper)\n",
    "ef.add_objective(objective_functions.L2_reg, gamma=0.1)  # gamme is the tuning parameter\n",
    "ef.efficient_risk(0.15)\n",
    "weights = ef.clean_weights()\n",
    "weights"
   ]
  },
  {
   "cell_type": "code",
   "execution_count": 27,
   "metadata": {},
   "outputs": [
    {
     "name": "stdout",
     "output_type": "stream",
     "text": [
      "3/15 tickers have zero weight\n"
     ]
    }
   ],
   "source": [
    "num_small = len([k for k in weights if weights[k] <= 1e-4])\n",
    "print(f\"{num_small}/{len(ef.tickers)} tickers have zero weight\")"
   ]
  },
  {
   "cell_type": "markdown",
   "metadata": {},
   "source": [
    "We can tune the value of gamma to choose the number of nonzero tickers. Larger gamma pulls portfolio weights towards an equal allocation."
   ]
  },
  {
   "cell_type": "code",
   "execution_count": 28,
   "metadata": {},
   "outputs": [
    {
     "data": {
      "text/plain": [
       "OrderedDict([('ACN', 0.05576),\n",
       "             ('AMZN', 0.13189),\n",
       "             ('COST', 0.06175),\n",
       "             ('DIS', 0.06233),\n",
       "             ('F', 0.06027),\n",
       "             ('GILD', 0.08055),\n",
       "             ('JPM', 0.07743),\n",
       "             ('KO', 0.03825),\n",
       "             ('LUV', 0.06415),\n",
       "             ('MA', 0.08386),\n",
       "             ('MSFT', 0.07058),\n",
       "             ('PFE', 0.04041),\n",
       "             ('TSLA', 0.08973),\n",
       "             ('UNH', 0.06213),\n",
       "             ('XOM', 0.02091)])"
      ]
     },
     "execution_count": 28,
     "metadata": {},
     "output_type": "execute_result"
    }
   ],
   "source": [
    "ef = EfficientFrontier(mu, S)\n",
    "ef.add_sector_constraints(sector_mapper, sector_lower, sector_upper)\n",
    "ef.add_objective(objective_functions.L2_reg, gamma=1)  # gamme is the tuning parameter\n",
    "ef.efficient_risk(0.15)\n",
    "weights = ef.clean_weights()\n",
    "weights"
   ]
  },
  {
   "cell_type": "code",
   "execution_count": 29,
   "metadata": {},
   "outputs": [
    {
     "data": {
      "image/png": "[encoded data removed]",
      "text/plain": [
       "<Figure size 720x720 with 1 Axes>"
      ]
     },
     "metadata": {},
     "output_type": "display_data"
    }
   ],
   "source": [
    "pd.Series(weights).plot.pie(figsize=(10, 10));"
   ]
  },
  {
   "cell_type": "code",
   "execution_count": 30,
   "metadata": {},
   "outputs": [
    {
     "name": "stdout",
     "output_type": "stream",
     "text": [
      "Expected annual return: 24.9%\n",
      "Annual volatility: 14.8%\n",
      "Sharpe Ratio: 1.55\n"
     ]
    }
   ],
   "source": [
    "ef.portfolio_performance(verbose=True);"
   ]
  },
  {
   "cell_type": "markdown",
   "metadata": {},
   "source": [
    "The resulting portfolio still has a volatility of less than our 15% limit. It's in-sample Sharpe ratio has gone down, but this portfolio is a lot more robust for actual investment."
   ]
  },
  {
   "cell_type": "markdown",
   "metadata": {},
   "source": [
    "## Minimise risk for a given return, market-neutral\n",
    "\n",
    "We may instead be in the situation where we have a certain required rate of return (maybe we are a pension fund that needs 7% return a year), but would like to minimise risk. Additionally, suppose we would like our portfolio to be market neutral, in the sense that it is equally exposed to the long and short sides.  "
   ]
  },
  {
   "cell_type": "code",
   "execution_count": 31,
   "metadata": {},
   "outputs": [
    {
     "data": {
      "text/plain": [
       "OrderedDict([('ACN', -0.03371),\n",
       "             ('AMZN', 0.21567),\n",
       "             ('COST', -0.05818),\n",
       "             ('DIS', -0.00567),\n",
       "             ('F', -0.00812),\n",
       "             ('GILD', 0.04944),\n",
       "             ('JPM', 0.0435),\n",
       "             ('KO', -0.13587),\n",
       "             ('LUV', -0.00196),\n",
       "             ('MA', 0.06662),\n",
       "             ('MSFT', 0.01866),\n",
       "             ('PFE', -0.08173),\n",
       "             ('TSLA', 0.09086),\n",
       "             ('UNH', -0.00824),\n",
       "             ('XOM', -0.15127)])"
      ]
     },
     "execution_count": 31,
     "metadata": {},
     "output_type": "execute_result"
    }
   ],
   "source": [
    "# Must have no weight bounds to allow shorts\n",
    "ef = EfficientFrontier(mu, S, weight_bounds=(None, None))\n",
    "ef.add_objective(objective_functions.L2_reg)\n",
    "ef.efficient_return(target_return=0.07, market_neutral=True)\n",
    "weights = ef.clean_weights()\n",
    "weights"
   ]
  },
  {
   "cell_type": "code",
   "execution_count": 32,
   "metadata": {},
   "outputs": [
    {
     "name": "stdout",
     "output_type": "stream",
     "text": [
      "Expected annual return: 7.0%\n",
      "Annual volatility: 10.4%\n",
      "Sharpe Ratio: 0.48\n"
     ]
    }
   ],
   "source": [
    "ef.portfolio_performance(verbose=True);"
   ]
  },
  {
   "cell_type": "code",
   "execution_count": 33,
   "metadata": {},
   "outputs": [
    {
     "data": {
      "image/png": "[encoded data removed]",
      "text/plain": [
       "<Figure size 720x432 with 1 Axes>"
      ]
     },
     "metadata": {
      "needs_background": "light"
     },
     "output_type": "display_data"
    }
   ],
   "source": [
    "pd.Series(weights).plot.barh(figsize=(10,6));"
   ]
  },
  {
   "cell_type": "code",
   "execution_count": 34,
   "metadata": {},
   "outputs": [
    {
     "name": "stdout",
     "output_type": "stream",
     "text": [
      "Net weight: 0.00\n"
     ]
    }
   ],
   "source": [
    "print(f\"Net weight: {sum(weights.values()):.2f}\")"
   ]
  },
  {
   "cell_type": "markdown",
   "metadata": {},
   "source": [
    "## Efficient semi-variance optimisation\n",
    "\n",
    "In this example, we will minimise the portfolio semivariance (i.e downside volatility) subject to a return constraint (target 20%).\n",
    "\n",
    "There are actually two ways of doing this in PyPortfolioOpt. The first is the \"intuitive\" way. We compute a semicovariance matrix, and pass this into `EfficientFrontier` (just like we would do for the exponential cov matrix or the Ledoit-Wolf shrunk matrix)."
   ]
  },
  {
   "cell_type": "code",
   "execution_count": 35,
   "metadata": {},
   "outputs": [
    {
     "data": {
      "image/png": "[encoded data removed]",
      "text/plain": [
       "<Figure size 432x288 with 2 Axes>"
      ]
     },
     "metadata": {
      "needs_background": "light"
     },
     "output_type": "display_data"
    }
   ],
   "source": [
    "semicov = risk_models.semicovariance(prices, benchmark=0)\n",
    "plotting.plot_covariance(semicov);"
   ]
  },
  {
   "cell_type": "code",
   "execution_count": 36,
   "metadata": {},
   "outputs": [
    {
     "data": {
      "text/plain": [
       "OrderedDict([('ACN', 0.25164),\n",
       "             ('AMZN', 0.0),\n",
       "             ('COST', 0.08773),\n",
       "             ('DIS', 0.0),\n",
       "             ('F', 0.0),\n",
       "             ('GILD', 0.00668),\n",
       "             ('JPM', 0.0),\n",
       "             ('KO', 0.12617),\n",
       "             ('LUV', 0.0),\n",
       "             ('MA', 0.31253),\n",
       "             ('MSFT', 0.0),\n",
       "             ('PFE', 0.04559),\n",
       "             ('TSLA', 0.16049),\n",
       "             ('UNH', 0.0),\n",
       "             ('XOM', 0.00917)])"
      ]
     },
     "execution_count": 36,
     "metadata": {},
     "output_type": "execute_result"
    }
   ],
   "source": [
    "ef = EfficientFrontier(mu, semicov)\n",
    "ef.efficient_return(0.2)\n",
    "weights = ef.clean_weights()\n",
    "weights\n"
   ]
  },
  {
   "cell_type": "code",
   "execution_count": 37,
   "metadata": {},
   "outputs": [
    {
     "name": "stdout",
     "output_type": "stream",
     "text": [
      "Expected annual return: 22.9%\n",
      "Annual volatility: 8.8%\n",
      "Sharpe Ratio: 2.37\n"
     ]
    }
   ],
   "source": [
    "ef.portfolio_performance(verbose=True);"
   ]
  },
  {
   "cell_type": "markdown",
   "metadata": {},
   "source": [
    "However, this solution is not truly optimal in mean-semivariance space. To do the optimisation properly, we must use the `EfficientSemivariance` class. This requires us to first compute the returns and drop NaNs."
   ]
  },
  {
   "cell_type": "code",
   "execution_count": 38,
   "metadata": {},
   "outputs": [],
   "source": [
    "returns = expected_returns.returns_from_prices(prices)\n",
    "returns = returns.dropna()"
   ]
  },
  {
   "cell_type": "code",
   "execution_count": 39,
   "metadata": {},
   "outputs": [
    {
     "name": "stdout",
     "output_type": "stream",
     "text": [
      "Expected annual return: 20.0%\n",
      "Annual semi-deviation: 10.3%\n",
      "Sortino Ratio: 1.74\n"
     ]
    }
   ],
   "source": [
    "from pypfopt import EfficientSemivariance\n",
    "\n",
    "es = EfficientSemivariance(mu, returns)\n",
    "es.efficient_return(0.2)\n",
    "es.portfolio_performance(verbose=True);\n"
   ]
  },
  {
   "cell_type": "markdown",
   "metadata": {},
   "source": [
    "To compare this with the heuristic solution, I will use a quick hack: replacing the `es.weights` with `es.weights` and running `es.portfolio_performance` again. Please don't be encouraged to do this in real life!"
   ]
  },
  {
   "cell_type": "code",
   "execution_count": 40,
   "metadata": {},
   "outputs": [
    {
     "name": "stdout",
     "output_type": "stream",
     "text": [
      "Expected annual return: 22.9%\n",
      "Annual semi-deviation: 14.5%\n",
      "Sortino Ratio: 1.45\n"
     ]
    }
   ],
   "source": [
    "es.weights = ef.weights\n",
    "es.portfolio_performance(verbose=True);"
   ]
  },
  {
   "cell_type": "markdown",
   "metadata": {},
   "source": [
    "We see that the heuristic method has a significantly lower Sortino ratio, and much higher semivariance."
   ]
  },
  {
   "cell_type": "markdown",
   "metadata": {},
   "source": [
    "## Plotting - Unconstrained\n",
    "\n",
    "To plot the unconstrained efficient frontier, it is easiest to use the critical line algorithm. "
   ]
  },
  {
   "cell_type": "code",
   "execution_count": 41,
   "metadata": {},
   "outputs": [
    {
     "name": "stdout",
     "output_type": "stream",
     "text": [
      "Expected annual return: 25.5%\n",
      "Annual volatility: 12.6%\n",
      "Sharpe Ratio: 1.86\n"
     ]
    }
   ],
   "source": [
    "from pypfopt import CLA, plotting\n",
    "\n",
    "cla = CLA(mu, S)\n",
    "cla.max_sharpe()\n",
    "cla.portfolio_performance(verbose=True);"
   ]
  },
  {
   "cell_type": "code",
   "execution_count": 42,
   "metadata": {},
   "outputs": [
    {
     "data": {
      "image/png": "[encoded data removed]",
      "text/plain": [
       "<Figure size 432x288 with 1 Axes>"
      ]
     },
     "metadata": {
      "needs_background": "light"
     },
     "output_type": "display_data"
    }
   ],
   "source": [
    "ax = plotting.plot_efficient_frontier(cla, showfig=False)"
   ]
  },
  {
   "cell_type": "markdown",
   "metadata": {},
   "source": [
    "## Plotting - Constrained"
   ]
  },
  {
   "cell_type": "markdown",
   "metadata": {},
   "source": [
    "In this example, we will plot the efficient frontier corresponding to portfolios with a constraint on exposure to MSFT, AMZN, and TSLA (e.g maybe we want to avoid big tech)."
   ]
  },
  {
   "cell_type": "code",
   "execution_count": 43,
   "metadata": {},
   "outputs": [],
   "source": [
    "import cvxpy as cp\n",
    "\n",
    "mu = expected_returns.capm_return(prices)\n",
    "S = risk_models.CovarianceShrinkage(prices).ledoit_wolf()\n",
    "\n",
    "ef = EfficientFrontier(mu, S,)\n",
    "big_tech_indices = [t in {\"MSFT\", \"AMZN\", \"TSLA\"} for t in tickers]\n",
    "ef.add_constraint(lambda w: cp.sum(w[big_tech_indices]) <= 0.3)"
   ]
  },
  {
   "cell_type": "markdown",
   "metadata": {},
   "source": [
    "As per the docs, *before* we call any optimisation function, we should pass this to the plotting module:"
   ]
  },
  {
   "cell_type": "code",
   "execution_count": 44,
   "metadata": {},
   "outputs": [
    {
     "data": {
      "image/png": "[encoded data removed]",
      "text/plain": [
       "<Figure size 432x288 with 1 Axes>"
      ]
     },
     "metadata": {
      "needs_background": "light"
     },
     "output_type": "display_data"
    }
   ],
   "source": [
    "ax = plotting.plot_efficient_frontier(ef, ef_param=\"risk\", \n",
    "                                      ef_param_range=np.linspace(0.12, 0.4, 50), \n",
    "                                      showfig=False);"
   ]
  },
  {
   "cell_type": "markdown",
   "metadata": {},
   "source": [
    "If you want to do a complex plot, it probably makes most sense to implement it yourself. Here is an example:"
   ]
  },
  {
   "cell_type": "code",
   "execution_count": 45,
   "metadata": {},
   "outputs": [
    {
     "data": {
      "image/png": "[encoded data removed]",
      "text/plain": [
       "<Figure size 432x288 with 1 Axes>"
      ]
     },
     "metadata": {
      "needs_background": "light"
     },
     "output_type": "display_data"
    }
   ],
   "source": [
    "returns, sigmas = [], []\n",
    "for target_ret in np.linspace(0, mu.max(), 40):\n",
    "    ef = EfficientFrontier(mu, S, weight_bounds=(0, 1))\n",
    "    try:\n",
    "        ef.efficient_return(target_ret)\n",
    "    except:\n",
    "        continue\n",
    "    ret, sigma, _ = ef.portfolio_performance()\n",
    "    returns.append(ret)\n",
    "    sigmas.append(sigma)\n",
    "plt.plot(sigmas, returns)\n",
    "plt.xlabel(\"Volatility\")\n",
    "plt.ylabel(\"Return\");"
   ]
  }
 ],
 "metadata": {
  "kernelspec": {
   "display_name": "pyportfolioopt",
   "language": "python",
   "name": "pyportfolioopt"
  },
  "language_info": {
   "codemirror_mode": {
    "name": "ipython",
    "version": 3
   },
   "file_extension": ".py",
   "mimetype": "text/x-python",
   "name": "python",
   "nbconvert_exporter": "python",
   "pygments_lexer": "ipython3",
   "version": "3.8.6"
  }
 },
 "nbformat": 4,
 "nbformat_minor": 4
}
